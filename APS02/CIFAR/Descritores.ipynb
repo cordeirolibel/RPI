{
 "cells": [
  {
   "cell_type": "code",
   "execution_count": 1,
   "metadata": {},
   "outputs": [],
   "source": [
    "# importa os pacotes necessários\n",
    "import numpy as np\n",
    "import os, cv2, random\n",
    "import pandas as pd\n",
    "import seaborn as sns\n",
    "import matplotlib.pyplot as plt\n",
    "from sklearn.decomposition import PCA\n",
    "import os\n",
    "%matplotlib inline "
   ]
  },
  {
   "cell_type": "markdown",
   "metadata": {},
   "source": [
    "# Lendo imagem"
   ]
  },
  {
   "cell_type": "code",
   "execution_count": 2,
   "metadata": {},
   "outputs": [
    {
     "name": "stdout",
     "output_type": "stream",
     "text": [
      "(32, 32, 3)\n"
     ]
    },
    {
     "data": {
      "text/plain": [
       "<matplotlib.image.AxesImage at 0x7fea3ae23320>"
      ]
     },
     "execution_count": 2,
     "metadata": {},
     "output_type": "execute_result"
    },
    {
     "data": {
      "image/png": "[encoded data removed]",
      "text/plain": [
       "<Figure size 432x288 with 1 Axes>"
      ]
     },
     "metadata": {
      "needs_background": "light"
     },
     "output_type": "display_data"
    }
   ],
   "source": [
    "#funções de leitura das imagens\n",
    "def read_image(file_path):\n",
    "    img = cv2.imread(file_path, cv2.IMREAD_COLOR) #cv2.IMREAD_GRAYSCALE\n",
    "    return img#cv2.resize(img, (ROWS, COLS), interpolation=cv2.INTER_CUBIC)\n",
    "img = read_image('kaggle/train/1.png')\n",
    "print(img.shape)\n",
    "plt.imshow(img)"
   ]
  },
  {
   "cell_type": "markdown",
   "metadata": {},
   "source": [
    "# Descritor 1 - Histograma"
   ]
  },
  {
   "cell_type": "code",
   "execution_count": 3,
   "metadata": {},
   "outputs": [
    {
     "data": {
      "text/plain": [
       "((512,), (512,))"
      ]
     },
     "execution_count": 3,
     "metadata": {},
     "output_type": "execute_result"
    },
    {
     "data": {
      "image/png": "[encoded data removed]",
      "text/plain": [
       "<Figure size 432x288 with 1 Axes>"
      ]
     },
     "metadata": {
      "needs_background": "light"
     },
     "output_type": "display_data"
    }
   ],
   "source": [
    "def extract_color_histogram(image, bins=(8, 8, 8)):     \n",
    "    # extract a 3D color histogram from the HSV color space using\n",
    "    # the supplied number of `bins` per channel\n",
    "    #image = cv2.imread(image_file)        \n",
    "    hsv = cv2.cvtColor(image, cv2.COLOR_BGR2HSV)\n",
    "    hist = cv2.calcHist([hsv], [0, 1, 2], None, bins,\n",
    "                        [0, 180, 0, 256, 0, 256])\n",
    "    cv2.normalize(hist, hist)\n",
    "    # the flattened histogram as the feature vector\n",
    "    hist = hist.flatten()\n",
    "    \n",
    "    #columns name\n",
    "    columns = np.array(['hist_%03d'%(i+1) for i in range(len(hist))])\n",
    "    \n",
    "    return hist, columns\n",
    "hist, cols1 = extract_color_histogram(img)\n",
    "plt.plot(hist)\n",
    "hist.shape, cols1.shape"
   ]
  },
  {
   "cell_type": "markdown",
   "metadata": {},
   "source": [
    "# Descritor 2 - Feature Vector"
   ]
  },
  {
   "cell_type": "code",
   "execution_count": 4,
   "metadata": {},
   "outputs": [
    {
     "data": {
      "text/plain": [
       "((3072,), (3072,))"
      ]
     },
     "execution_count": 4,
     "metadata": {},
     "output_type": "execute_result"
    },
    {
     "data": {
      "image/png": "[encoded data removed]",
      "text/plain": [
       "<Figure size 432x288 with 1 Axes>"
      ]
     },
     "metadata": {
      "needs_background": "light"
     },
     "output_type": "display_data"
    }
   ],
   "source": [
    "def image_to_feature_vector(image, size=(32, 32)):\n",
    "    # resize the image to a fixed size, then flatten the image into\n",
    "    # a list of raw pixel intensities\n",
    "    if img.shape[:2] != size:\n",
    "        fvet = cv2.resize(image, size).flatten()\n",
    "    else:\n",
    "        fvet = image.flatten()\n",
    "    fvet = fvet/255\n",
    "    \n",
    "    #columns name\n",
    "    columns = np.array(['fvet_%03d'%(i+1) for i in range(len(fvet))])\n",
    "    \n",
    "    return fvet,columns\n",
    "\n",
    "fvet, cols2 = image_to_feature_vector(img)\n",
    "plt.hist(fvet)\n",
    "fvet.shape, cols2.shape"
   ]
  },
  {
   "cell_type": "markdown",
   "metadata": {},
   "source": [
    "# Descritor 3 - Hu Moments"
   ]
  },
  {
   "cell_type": "code",
   "execution_count": 5,
   "metadata": {},
   "outputs": [
    {
     "name": "stdout",
     "output_type": "stream",
     "text": [
      "[ 1.37597983e-03  8.55818987e-09  1.99613546e-11  5.12474924e-12\n",
      "  4.67974848e-23 -2.65526534e-16  2.22850951e-23]\n"
     ]
    },
    {
     "data": {
      "text/plain": [
       "((7,), (7,))"
      ]
     },
     "execution_count": 5,
     "metadata": {},
     "output_type": "execute_result"
    }
   ],
   "source": [
    "def hu_moments(image, size=(32, 32)):\n",
    "    img_gray = cv2.cvtColor(image, cv2.COLOR_BGR2GRAY)\n",
    "    hmom = cv2.HuMoments(cv2.moments(img_gray)).flatten()\n",
    "    cols = np.array(['humom_1','humom_2','humom_3','humom_4','humom_5','humom_6','humom_7'])\n",
    "    return hmom,cols\n",
    "hmom, cols3 = hu_moments(img)\n",
    "print(hmom)\n",
    "hmom.shape, cols3.shape"
   ]
  },
  {
   "cell_type": "markdown",
   "metadata": {},
   "source": [
    "Ver depois \n",
    "http://wiki.icmc.usp.br/images/d/d7/Dip10_imagedescription-texture.pdf"
   ]
  },
  {
   "cell_type": "markdown",
   "metadata": {},
   "source": [
    "# Junta Descritores"
   ]
  },
  {
   "cell_type": "code",
   "execution_count": 6,
   "metadata": {},
   "outputs": [],
   "source": [
    "#Cria uma serie com descritores\n",
    "def junta_descritores(descritores, colunas):\n",
    "    serie = pd.Series()\n",
    "    for d,c in zip(descritores, colunas):\n",
    "        serie = serie.append(pd.Series(d, index=c))\n",
    "    return serie"
   ]
  },
  {
   "cell_type": "code",
   "execution_count": 7,
   "metadata": {},
   "outputs": [
    {
     "name": "stdout",
     "output_type": "stream",
     "text": [
      "(3591,)\n",
      "hist_001    0.003214\n",
      "hist_002    0.000000\n",
      "hist_003    0.000000\n",
      "dtype: float64\n",
      "humom_5    4.679748e-23\n",
      "humom_6   -2.655265e-16\n",
      "humom_7    2.228510e-23\n",
      "dtype: float64\n"
     ]
    }
   ],
   "source": [
    "serie = junta_descritores([hist,fvet,hmom],[cols1,cols2,cols3])\n",
    "print(serie.shape)\n",
    "print(serie.head(3))\n",
    "print(serie.tail(3))"
   ]
  },
  {
   "cell_type": "markdown",
   "metadata": {},
   "source": [
    "# Pipeline"
   ]
  },
  {
   "cell_type": "code",
   "execution_count": 8,
   "metadata": {},
   "outputs": [],
   "source": [
    "# retorna uma serie com os descritores\n",
    "def pipeline1(file_path):\n",
    "    \n",
    "    img = read_image(file_path)\n",
    "    \n",
    "    #descritores\n",
    "    hist, cols1 = extract_color_histogram(img)\n",
    "    fvet, cols2 = image_to_feature_vector(img,size=(16, 16))\n",
    "    hmom, cols3 = hu_moments(img)\n",
    "    #...\n",
    "    \n",
    "    #junta\n",
    "    serie = junta_descritores([hist,fvet,hmom],[cols1,cols2,cols3])\n",
    "    \n",
    "    return serie"
   ]
  },
  {
   "cell_type": "code",
   "execution_count": 9,
   "metadata": {},
   "outputs": [],
   "source": [
    "def run_pipeline(n_images = 50000, folder = 'train'): \n",
    "    \n",
    "    lista_series = list()\n",
    "    df = pd.DataFrame()\n",
    "    \n",
    "    #para cada imagem \n",
    "    for i in range(n_images):\n",
    "        if (i+1)%1000 == 0:\n",
    "            print(i+1,'/',n_images)\n",
    "            df = df.append(lista_series)\n",
    "            lista_series = list()\n",
    "            \n",
    "        #adiciona linha na tabela\n",
    "        file_path = os.path.join(os.path.join('kaggle',folder),str(i+1))+'.png'\n",
    "        serie = pipeline1(file_path)\n",
    "        lista_series.append(serie)\n",
    "    \n",
    "    if len(lista_series):\n",
    "        df = df.append(lista_series)\n",
    "    df = df.reset_index(drop = True).astype('float32')\n",
    "    \n",
    "    #PCA\n",
    "    print(\"PCA ...\")\n",
    "    n_componentes = int(df.shape[1]/2)\n",
    "    pca = PCA(n_components=n_componentes)\n",
    "    principalComponents = pca.fit_transform(df)\n",
    "    df_pca = pd.DataFrame(data = principalComponents,\n",
    "                          columns = ['comp_%03d'%i for i in range(n_componentes)]).astype('float32')\n",
    "    \n",
    "    #salva\n",
    "    print('Salvando ...')\n",
    "    file_path = os.path.join('kaggle',folder)+'.csv'\n",
    "    df.to_csv(file_path)\n",
    "    file_path = os.path.join('kaggle',folder+'_pca')+'.csv'\n",
    "    df_pca.to_csv(file_path)\n",
    "    \n",
    "    print('End')\n",
    "    return df,df_pca"
   ]
  },
  {
   "cell_type": "code",
   "execution_count": 10,
   "metadata": {},
   "outputs": [
    {
     "name": "stdout",
     "output_type": "stream",
     "text": [
      "1000 / 50000\n",
      "2000 / 50000\n",
      "3000 / 50000\n",
      "4000 / 50000\n",
      "5000 / 50000\n",
      "6000 / 50000\n",
      "7000 / 50000\n",
      "8000 / 50000\n",
      "9000 / 50000\n",
      "10000 / 50000\n",
      "11000 / 50000\n",
      "12000 / 50000\n",
      "13000 / 50000\n",
      "14000 / 50000\n",
      "15000 / 50000\n",
      "16000 / 50000\n",
      "17000 / 50000\n",
      "18000 / 50000\n",
      "19000 / 50000\n",
      "20000 / 50000\n",
      "21000 / 50000\n",
      "22000 / 50000\n",
      "23000 / 50000\n",
      "24000 / 50000\n",
      "25000 / 50000\n",
      "26000 / 50000\n",
      "27000 / 50000\n",
      "28000 / 50000\n",
      "29000 / 50000\n",
      "30000 / 50000\n",
      "31000 / 50000\n",
      "32000 / 50000\n",
      "33000 / 50000\n",
      "34000 / 50000\n",
      "35000 / 50000\n",
      "36000 / 50000\n",
      "37000 / 50000\n",
      "38000 / 50000\n",
      "39000 / 50000\n",
      "40000 / 50000\n",
      "41000 / 50000\n",
      "42000 / 50000\n",
      "43000 / 50000\n",
      "44000 / 50000\n",
      "45000 / 50000\n",
      "46000 / 50000\n",
      "47000 / 50000\n",
      "48000 / 50000\n",
      "49000 / 50000\n",
      "50000 / 50000\n",
      "PCA ...\n",
      "Salvando ...\n",
      "End\n",
      "CPU times: user 6min 36s, sys: 32.1 s, total: 7min 8s\n",
      "Wall time: 5min 45s\n"
     ]
    }
   ],
   "source": [
    "%%time\n",
    "df,df_pca = run_pipeline()"
   ]
  },
  {
   "cell_type": "code",
   "execution_count": 11,
   "metadata": {},
   "outputs": [
    {
     "name": "stdout",
     "output_type": "stream",
     "text": [
      "(50000, 1287)\n"
     ]
    },
    {
     "data": {
      "text/html": [
       "<div>\n",
       "<style scoped>\n",
       "    .dataframe tbody tr th:only-of-type {\n",
       "        vertical-align: middle;\n",
       "    }\n",
       "\n",
       "    .dataframe tbody tr th {\n",
       "        vertical-align: top;\n",
       "    }\n",
       "\n",
       "    .dataframe thead th {\n",
       "        text-align: right;\n",
       "    }\n",
       "</style>\n",
       "<table border=\"1\" class=\"dataframe\">\n",
       "  <thead>\n",
       "    <tr style=\"text-align: right;\">\n",
       "      <th></th>\n",
       "      <th>hist_001</th>\n",
       "      <th>hist_002</th>\n",
       "      <th>hist_003</th>\n",
       "      <th>hist_004</th>\n",
       "      <th>hist_005</th>\n",
       "      <th>hist_006</th>\n",
       "      <th>hist_007</th>\n",
       "      <th>hist_008</th>\n",
       "      <th>hist_009</th>\n",
       "      <th>hist_010</th>\n",
       "      <th>...</th>\n",
       "      <th>fvet_766</th>\n",
       "      <th>fvet_767</th>\n",
       "      <th>fvet_768</th>\n",
       "      <th>humom_1</th>\n",
       "      <th>humom_2</th>\n",
       "      <th>humom_3</th>\n",
       "      <th>humom_4</th>\n",
       "      <th>humom_5</th>\n",
       "      <th>humom_6</th>\n",
       "      <th>humom_7</th>\n",
       "    </tr>\n",
       "  </thead>\n",
       "  <tbody>\n",
       "    <tr>\n",
       "      <th>0</th>\n",
       "      <td>0.003214</td>\n",
       "      <td>0.000000</td>\n",
       "      <td>0.000000</td>\n",
       "      <td>0.000000</td>\n",
       "      <td>0.000000</td>\n",
       "      <td>0.000000</td>\n",
       "      <td>0.003214</td>\n",
       "      <td>0.016068</td>\n",
       "      <td>0.000000</td>\n",
       "      <td>0.003214</td>\n",
       "      <td>...</td>\n",
       "      <td>0.219608</td>\n",
       "      <td>0.317647</td>\n",
       "      <td>0.447059</td>\n",
       "      <td>0.001376</td>\n",
       "      <td>8.558190e-09</td>\n",
       "      <td>1.996135e-11</td>\n",
       "      <td>5.124749e-12</td>\n",
       "      <td>4.679749e-23</td>\n",
       "      <td>-2.655265e-16</td>\n",
       "      <td>2.228509e-23</td>\n",
       "    </tr>\n",
       "    <tr>\n",
       "      <th>1</th>\n",
       "      <td>0.007545</td>\n",
       "      <td>0.007545</td>\n",
       "      <td>0.022635</td>\n",
       "      <td>0.075451</td>\n",
       "      <td>0.022635</td>\n",
       "      <td>0.045270</td>\n",
       "      <td>0.098086</td>\n",
       "      <td>0.120721</td>\n",
       "      <td>0.000000</td>\n",
       "      <td>0.015090</td>\n",
       "      <td>...</td>\n",
       "      <td>0.525490</td>\n",
       "      <td>0.494118</td>\n",
       "      <td>0.529412</td>\n",
       "      <td>0.001152</td>\n",
       "      <td>2.020843e-09</td>\n",
       "      <td>3.868780e-11</td>\n",
       "      <td>6.433244e-12</td>\n",
       "      <td>-4.678342e-23</td>\n",
       "      <td>-2.786453e-16</td>\n",
       "      <td>9.006636e-23</td>\n",
       "    </tr>\n",
       "    <tr>\n",
       "      <th>2</th>\n",
       "      <td>0.000000</td>\n",
       "      <td>0.000000</td>\n",
       "      <td>0.026750</td>\n",
       "      <td>0.015286</td>\n",
       "      <td>0.000000</td>\n",
       "      <td>0.011464</td>\n",
       "      <td>0.042036</td>\n",
       "      <td>0.703141</td>\n",
       "      <td>0.003821</td>\n",
       "      <td>0.022929</td>\n",
       "      <td>...</td>\n",
       "      <td>0.317647</td>\n",
       "      <td>0.325490</td>\n",
       "      <td>0.301961</td>\n",
       "      <td>0.001243</td>\n",
       "      <td>9.735721e-09</td>\n",
       "      <td>1.120396e-10</td>\n",
       "      <td>1.157212e-10</td>\n",
       "      <td>7.807502e-21</td>\n",
       "      <td>-1.138781e-14</td>\n",
       "      <td>1.061447e-20</td>\n",
       "    </tr>\n",
       "    <tr>\n",
       "      <th>3</th>\n",
       "      <td>0.000000</td>\n",
       "      <td>0.000000</td>\n",
       "      <td>0.000000</td>\n",
       "      <td>0.000000</td>\n",
       "      <td>0.000000</td>\n",
       "      <td>0.000000</td>\n",
       "      <td>0.000000</td>\n",
       "      <td>0.000000</td>\n",
       "      <td>0.000000</td>\n",
       "      <td>0.000000</td>\n",
       "      <td>...</td>\n",
       "      <td>0.184314</td>\n",
       "      <td>0.262745</td>\n",
       "      <td>0.286275</td>\n",
       "      <td>0.001713</td>\n",
       "      <td>6.692215e-09</td>\n",
       "      <td>8.255245e-12</td>\n",
       "      <td>2.703786e-12</td>\n",
       "      <td>1.031088e-23</td>\n",
       "      <td>-3.207973e-17</td>\n",
       "      <td>7.540437e-24</td>\n",
       "    </tr>\n",
       "    <tr>\n",
       "      <th>4</th>\n",
       "      <td>0.011915</td>\n",
       "      <td>0.011915</td>\n",
       "      <td>0.202553</td>\n",
       "      <td>0.047660</td>\n",
       "      <td>0.029787</td>\n",
       "      <td>0.029787</td>\n",
       "      <td>0.053617</td>\n",
       "      <td>0.131064</td>\n",
       "      <td>0.005957</td>\n",
       "      <td>0.059574</td>\n",
       "      <td>...</td>\n",
       "      <td>0.309804</td>\n",
       "      <td>0.298039</td>\n",
       "      <td>0.282353</td>\n",
       "      <td>0.001608</td>\n",
       "      <td>3.536035e-08</td>\n",
       "      <td>6.717288e-11</td>\n",
       "      <td>1.433193e-11</td>\n",
       "      <td>-2.684715e-22</td>\n",
       "      <td>-2.592121e-15</td>\n",
       "      <td>3.544983e-22</td>\n",
       "    </tr>\n",
       "  </tbody>\n",
       "</table>\n",
       "<p>5 rows × 1287 columns</p>\n",
       "</div>"
      ],
      "text/plain": [
       "   hist_001  hist_002  hist_003  hist_004  hist_005  hist_006  hist_007  \\\n",
       "0  0.003214  0.000000  0.000000  0.000000  0.000000  0.000000  0.003214   \n",
       "1  0.007545  0.007545  0.022635  0.075451  0.022635  0.045270  0.098086   \n",
       "2  0.000000  0.000000  0.026750  0.015286  0.000000  0.011464  0.042036   \n",
       "3  0.000000  0.000000  0.000000  0.000000  0.000000  0.000000  0.000000   \n",
       "4  0.011915  0.011915  0.202553  0.047660  0.029787  0.029787  0.053617   \n",
       "\n",
       "   hist_008  hist_009  hist_010  ...  fvet_766  fvet_767  fvet_768   humom_1  \\\n",
       "0  0.016068  0.000000  0.003214  ...  0.219608  0.317647  0.447059  0.001376   \n",
       "1  0.120721  0.000000  0.015090  ...  0.525490  0.494118  0.529412  0.001152   \n",
       "2  0.703141  0.003821  0.022929  ...  0.317647  0.325490  0.301961  0.001243   \n",
       "3  0.000000  0.000000  0.000000  ...  0.184314  0.262745  0.286275  0.001713   \n",
       "4  0.131064  0.005957  0.059574  ...  0.309804  0.298039  0.282353  0.001608   \n",
       "\n",
       "        humom_2       humom_3       humom_4       humom_5       humom_6  \\\n",
       "0  8.558190e-09  1.996135e-11  5.124749e-12  4.679749e-23 -2.655265e-16   \n",
       "1  2.020843e-09  3.868780e-11  6.433244e-12 -4.678342e-23 -2.786453e-16   \n",
       "2  9.735721e-09  1.120396e-10  1.157212e-10  7.807502e-21 -1.138781e-14   \n",
       "3  6.692215e-09  8.255245e-12  2.703786e-12  1.031088e-23 -3.207973e-17   \n",
       "4  3.536035e-08  6.717288e-11  1.433193e-11 -2.684715e-22 -2.592121e-15   \n",
       "\n",
       "        humom_7  \n",
       "0  2.228509e-23  \n",
       "1  9.006636e-23  \n",
       "2  1.061447e-20  \n",
       "3  7.540437e-24  \n",
       "4  3.544983e-22  \n",
       "\n",
       "[5 rows x 1287 columns]"
      ]
     },
     "execution_count": 11,
     "metadata": {},
     "output_type": "execute_result"
    }
   ],
   "source": [
    "print(df.shape)\n",
    "df.head()"
   ]
  },
  {
   "cell_type": "code",
   "execution_count": 12,
   "metadata": {},
   "outputs": [
    {
     "name": "stdout",
     "output_type": "stream",
     "text": [
      "(50000, 643)\n"
     ]
    },
    {
     "data": {
      "text/html": [
       "<div>\n",
       "<style scoped>\n",
       "    .dataframe tbody tr th:only-of-type {\n",
       "        vertical-align: middle;\n",
       "    }\n",
       "\n",
       "    .dataframe tbody tr th {\n",
       "        vertical-align: top;\n",
       "    }\n",
       "\n",
       "    .dataframe thead th {\n",
       "        text-align: right;\n",
       "    }\n",
       "</style>\n",
       "<table border=\"1\" class=\"dataframe\">\n",
       "  <thead>\n",
       "    <tr style=\"text-align: right;\">\n",
       "      <th></th>\n",
       "      <th>comp_000</th>\n",
       "      <th>comp_001</th>\n",
       "      <th>comp_002</th>\n",
       "      <th>comp_003</th>\n",
       "      <th>comp_004</th>\n",
       "      <th>comp_005</th>\n",
       "      <th>comp_006</th>\n",
       "      <th>comp_007</th>\n",
       "      <th>comp_008</th>\n",
       "      <th>comp_009</th>\n",
       "      <th>...</th>\n",
       "      <th>comp_633</th>\n",
       "      <th>comp_634</th>\n",
       "      <th>comp_635</th>\n",
       "      <th>comp_636</th>\n",
       "      <th>comp_637</th>\n",
       "      <th>comp_638</th>\n",
       "      <th>comp_639</th>\n",
       "      <th>comp_640</th>\n",
       "      <th>comp_641</th>\n",
       "      <th>comp_642</th>\n",
       "    </tr>\n",
       "  </thead>\n",
       "  <tbody>\n",
       "    <tr>\n",
       "      <th>0</th>\n",
       "      <td>-3.197883</td>\n",
       "      <td>1.380269</td>\n",
       "      <td>0.740793</td>\n",
       "      <td>2.321128</td>\n",
       "      <td>1.381360</td>\n",
       "      <td>0.292483</td>\n",
       "      <td>-0.320347</td>\n",
       "      <td>0.191727</td>\n",
       "      <td>-1.637414</td>\n",
       "      <td>0.573441</td>\n",
       "      <td>...</td>\n",
       "      <td>-0.024792</td>\n",
       "      <td>0.045877</td>\n",
       "      <td>0.027880</td>\n",
       "      <td>-0.001795</td>\n",
       "      <td>0.046510</td>\n",
       "      <td>0.005527</td>\n",
       "      <td>0.037153</td>\n",
       "      <td>-0.061800</td>\n",
       "      <td>0.017775</td>\n",
       "      <td>-0.035746</td>\n",
       "    </tr>\n",
       "    <tr>\n",
       "      <th>1</th>\n",
       "      <td>0.432418</td>\n",
       "      <td>-0.474380</td>\n",
       "      <td>2.985762</td>\n",
       "      <td>-0.372687</td>\n",
       "      <td>0.948086</td>\n",
       "      <td>0.585216</td>\n",
       "      <td>-0.342111</td>\n",
       "      <td>-0.177264</td>\n",
       "      <td>-1.299614</td>\n",
       "      <td>1.279630</td>\n",
       "      <td>...</td>\n",
       "      <td>0.020965</td>\n",
       "      <td>-0.017500</td>\n",
       "      <td>0.004794</td>\n",
       "      <td>0.031049</td>\n",
       "      <td>0.011890</td>\n",
       "      <td>-0.021927</td>\n",
       "      <td>-0.031323</td>\n",
       "      <td>0.004768</td>\n",
       "      <td>-0.007784</td>\n",
       "      <td>0.000758</td>\n",
       "    </tr>\n",
       "    <tr>\n",
       "      <th>2</th>\n",
       "      <td>3.866369</td>\n",
       "      <td>-5.751267</td>\n",
       "      <td>-1.397672</td>\n",
       "      <td>-0.701589</td>\n",
       "      <td>1.225061</td>\n",
       "      <td>-1.105348</td>\n",
       "      <td>0.325142</td>\n",
       "      <td>-0.697994</td>\n",
       "      <td>0.270915</td>\n",
       "      <td>-0.565156</td>\n",
       "      <td>...</td>\n",
       "      <td>-0.008438</td>\n",
       "      <td>-0.022661</td>\n",
       "      <td>0.000723</td>\n",
       "      <td>-0.013556</td>\n",
       "      <td>0.002779</td>\n",
       "      <td>0.004803</td>\n",
       "      <td>-0.003301</td>\n",
       "      <td>0.006846</td>\n",
       "      <td>-0.016662</td>\n",
       "      <td>0.022950</td>\n",
       "    </tr>\n",
       "    <tr>\n",
       "      <th>3</th>\n",
       "      <td>-5.177614</td>\n",
       "      <td>0.011442</td>\n",
       "      <td>0.538458</td>\n",
       "      <td>0.953614</td>\n",
       "      <td>0.441988</td>\n",
       "      <td>0.423874</td>\n",
       "      <td>-0.134181</td>\n",
       "      <td>0.168956</td>\n",
       "      <td>-0.718973</td>\n",
       "      <td>-0.185578</td>\n",
       "      <td>...</td>\n",
       "      <td>-0.015079</td>\n",
       "      <td>-0.013434</td>\n",
       "      <td>0.017569</td>\n",
       "      <td>0.005277</td>\n",
       "      <td>-0.002907</td>\n",
       "      <td>0.010175</td>\n",
       "      <td>-0.007885</td>\n",
       "      <td>0.006420</td>\n",
       "      <td>0.014084</td>\n",
       "      <td>0.004552</td>\n",
       "    </tr>\n",
       "    <tr>\n",
       "      <th>4</th>\n",
       "      <td>-1.302909</td>\n",
       "      <td>-2.489516</td>\n",
       "      <td>0.526420</td>\n",
       "      <td>-1.786733</td>\n",
       "      <td>0.113426</td>\n",
       "      <td>-0.108457</td>\n",
       "      <td>-2.791657</td>\n",
       "      <td>0.842451</td>\n",
       "      <td>-1.858618</td>\n",
       "      <td>-0.962530</td>\n",
       "      <td>...</td>\n",
       "      <td>0.012354</td>\n",
       "      <td>-0.032186</td>\n",
       "      <td>-0.012811</td>\n",
       "      <td>-0.014408</td>\n",
       "      <td>0.012763</td>\n",
       "      <td>0.015072</td>\n",
       "      <td>0.055825</td>\n",
       "      <td>-0.007483</td>\n",
       "      <td>-0.000350</td>\n",
       "      <td>0.001611</td>\n",
       "    </tr>\n",
       "  </tbody>\n",
       "</table>\n",
       "<p>5 rows × 643 columns</p>\n",
       "</div>"
      ],
      "text/plain": [
       "   comp_000  comp_001  comp_002  comp_003  comp_004  comp_005  comp_006  \\\n",
       "0 -3.197883  1.380269  0.740793  2.321128  1.381360  0.292483 -0.320347   \n",
       "1  0.432418 -0.474380  2.985762 -0.372687  0.948086  0.585216 -0.342111   \n",
       "2  3.866369 -5.751267 -1.397672 -0.701589  1.225061 -1.105348  0.325142   \n",
       "3 -5.177614  0.011442  0.538458  0.953614  0.441988  0.423874 -0.134181   \n",
       "4 -1.302909 -2.489516  0.526420 -1.786733  0.113426 -0.108457 -2.791657   \n",
       "\n",
       "   comp_007  comp_008  comp_009  ...  comp_633  comp_634  comp_635  comp_636  \\\n",
       "0  0.191727 -1.637414  0.573441  ... -0.024792  0.045877  0.027880 -0.001795   \n",
       "1 -0.177264 -1.299614  1.279630  ...  0.020965 -0.017500  0.004794  0.031049   \n",
       "2 -0.697994  0.270915 -0.565156  ... -0.008438 -0.022661  0.000723 -0.013556   \n",
       "3  0.168956 -0.718973 -0.185578  ... -0.015079 -0.013434  0.017569  0.005277   \n",
       "4  0.842451 -1.858618 -0.962530  ...  0.012354 -0.032186 -0.012811 -0.014408   \n",
       "\n",
       "   comp_637  comp_638  comp_639  comp_640  comp_641  comp_642  \n",
       "0  0.046510  0.005527  0.037153 -0.061800  0.017775 -0.035746  \n",
       "1  0.011890 -0.021927 -0.031323  0.004768 -0.007784  0.000758  \n",
       "2  0.002779  0.004803 -0.003301  0.006846 -0.016662  0.022950  \n",
       "3 -0.002907  0.010175 -0.007885  0.006420  0.014084  0.004552  \n",
       "4  0.012763  0.015072  0.055825 -0.007483 -0.000350  0.001611  \n",
       "\n",
       "[5 rows x 643 columns]"
      ]
     },
     "execution_count": 12,
     "metadata": {},
     "output_type": "execute_result"
    }
   ],
   "source": [
    "print(df_pca.shape)\n",
    "df_pca.head()"
   ]
  },
  {
   "cell_type": "code",
   "execution_count": null,
   "metadata": {},
   "outputs": [],
   "source": []
  }
 ],
 "metadata": {
  "kernelspec": {
   "display_name": "py3im",
   "language": "python",
   "name": "py3im"
  },
  "language_info": {
   "codemirror_mode": {
    "name": "ipython",
    "version": 3
   },
   "file_extension": ".py",
   "mimetype": "text/x-python",
   "name": "python",
   "nbconvert_exporter": "python",
   "pygments_lexer": "ipython3",
   "version": "3.6.8"
  }
 },
 "nbformat": 4,
 "nbformat_minor": 2
}
