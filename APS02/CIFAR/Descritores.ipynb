{
 "cells": [
  {
   "cell_type": "code",
   "execution_count": 1,
   "metadata": {},
   "outputs": [],
   "source": [
    "# importa os pacotes necessários\n",
    "import numpy as np\n",
    "import os, cv2, random\n",
    "import pandas as pd\n",
    "import seaborn as sns\n",
    "import matplotlib.pyplot as plt\n",
    "from sklearn.decomposition import PCA,IncrementalPCA\n",
    "from skimage.measure import block_reduce\n",
    "from tqdm import tqdm\n",
    "import os\n",
    "import warnings\n",
    "import pickle\n",
    "warnings.filterwarnings(\"ignore\")\n",
    "%matplotlib inline "
   ]
  },
  {
   "cell_type": "markdown",
   "metadata": {},
   "source": [
    "# Lendo imagem"
   ]
  },
  {
   "cell_type": "code",
   "execution_count": 2,
   "metadata": {
    "scrolled": true
   },
   "outputs": [
    {
     "name": "stdout",
     "output_type": "stream",
     "text": [
      "(32, 32, 3)\n"
     ]
    },
    {
     "data": {
      "text/plain": [
       "<matplotlib.image.AxesImage at 0x7f30be00f160>"
      ]
     },
     "execution_count": 2,
     "metadata": {},
     "output_type": "execute_result"
    },
    {
     "data": {
      "image/png": "[encoded data removed]",
      "text/plain": [
       "<Figure size 432x288 with 1 Axes>"
      ]
     },
     "metadata": {
      "needs_background": "light"
     },
     "output_type": "display_data"
    }
   ],
   "source": [
    "#funções de leitura das imagens\n",
    "def read_image(file_path):\n",
    "    img = cv2.imread(file_path, cv2.IMREAD_COLOR) #cv2.IMREAD_GRAYSCALE\n",
    "    return img#cv2.resize(img, (ROWS, COLS), interpolation=cv2.INTER_CUBIC)\n",
    "img = read_image('kaggle/train/1.png')\n",
    "print(img.shape)\n",
    "plt.imshow(img)"
   ]
  },
  {
   "cell_type": "markdown",
   "metadata": {},
   "source": [
    "# Descritor 1 - Histograma"
   ]
  },
  {
   "cell_type": "code",
   "execution_count": 3,
   "metadata": {},
   "outputs": [
    {
     "data": {
      "text/plain": [
       "((512,), (512,))"
      ]
     },
     "execution_count": 3,
     "metadata": {},
     "output_type": "execute_result"
    },
    {
     "data": {
      "image/png": "[encoded data removed]",
      "text/plain": [
       "<Figure size 432x288 with 1 Axes>"
      ]
     },
     "metadata": {
      "needs_background": "light"
     },
     "output_type": "display_data"
    }
   ],
   "source": [
    "def extract_color_histogram(image, bins=(8, 8, 8)):     \n",
    "    # extract a 3D color histogram from the HSV color space using\n",
    "    # the supplied number of `bins` per channel\n",
    "    #image = cv2.imread(image_file)        \n",
    "    hsv = cv2.cvtColor(image, cv2.COLOR_BGR2HSV)\n",
    "    hist = cv2.calcHist([hsv], [0, 1, 2], None, bins,\n",
    "                        [0, 180, 0, 256, 0, 256])\n",
    "    cv2.normalize(hist, hist)\n",
    "    # the flattened histogram as the feature vector\n",
    "    hist = hist.flatten()\n",
    "    \n",
    "    #columns name\n",
    "    columns = np.array(['hist_%03d'%(i+1) for i in range(len(hist))])\n",
    "    \n",
    "    return hist, columns\n",
    "hist, cols1 = extract_color_histogram(img)\n",
    "plt.plot(hist)\n",
    "hist.shape, cols1.shape"
   ]
  },
  {
   "cell_type": "markdown",
   "metadata": {},
   "source": [
    "# Descritor 2 - Feature Vector"
   ]
  },
  {
   "cell_type": "code",
   "execution_count": 4,
   "metadata": {},
   "outputs": [
    {
     "data": {
      "text/plain": [
       "((3072,), (3072,))"
      ]
     },
     "execution_count": 4,
     "metadata": {},
     "output_type": "execute_result"
    },
    {
     "data": {
      "image/png": "[encoded data removed]",
      "text/plain": [
       "<Figure size 432x288 with 1 Axes>"
      ]
     },
     "metadata": {
      "needs_background": "light"
     },
     "output_type": "display_data"
    }
   ],
   "source": [
    "def image_to_feature_vector(image, size=(32, 32)):\n",
    "    # resize the image to a fixed size, then flatten the image into\n",
    "    # a list of raw pixel intensities\n",
    "    if img.shape[:2] != size:\n",
    "        fvet = cv2.resize(image, size).flatten()\n",
    "    else:\n",
    "        fvet = image.flatten()\n",
    "    fvet = fvet/255\n",
    "    \n",
    "    #columns name\n",
    "    columns = np.array(['fvet_%03d'%(i+1) for i in range(len(fvet))])\n",
    "    \n",
    "    return fvet.astype('float32'),columns\n",
    "\n",
    "fvet, cols2 = image_to_feature_vector(img)\n",
    "plt.hist(fvet)\n",
    "fvet.shape, cols2.shape"
   ]
  },
  {
   "cell_type": "markdown",
   "metadata": {},
   "source": [
    "# Descritor 3 - Hu Moments"
   ]
  },
  {
   "cell_type": "code",
   "execution_count": 5,
   "metadata": {},
   "outputs": [
    {
     "name": "stdout",
     "output_type": "stream",
     "text": [
      "[ 1.3759799e-03  8.5581897e-09  1.9961354e-11  5.1247491e-12\n",
      "  4.6797485e-23 -2.6552654e-16  2.2285095e-23]\n"
     ]
    },
    {
     "data": {
      "text/plain": [
       "((7,), (7,))"
      ]
     },
     "execution_count": 5,
     "metadata": {},
     "output_type": "execute_result"
    }
   ],
   "source": [
    "def hu_moments(image, size=(32, 32)):\n",
    "    img_gray = cv2.cvtColor(image, cv2.COLOR_BGR2GRAY)\n",
    "    hmom = cv2.HuMoments(cv2.moments(img_gray)).flatten().astype('float32')\n",
    "    cols = np.array(['humom_1','humom_2','humom_3','humom_4','humom_5','humom_6','humom_7'])\n",
    "    return hmom,cols\n",
    "hmom, cols3 = hu_moments(img)\n",
    "print(hmom)\n",
    "hmom.shape, cols3.shape"
   ]
  },
  {
   "cell_type": "markdown",
   "metadata": {},
   "source": [
    "# Descritor 4 - Gabor Filters\n",
    "https://scikit-image.org/docs/dev/api/skimage.filters.html#skimage.filters.gabor"
   ]
  },
  {
   "cell_type": "code",
   "execution_count": 6,
   "metadata": {},
   "outputs": [],
   "source": [
    "from skimage.filters import gabor,gabor_kernel\n",
    "from scipy import ndimage as ndi"
   ]
  },
  {
   "cell_type": "code",
   "execution_count": 7,
   "metadata": {},
   "outputs": [],
   "source": [
    "def gabor_kernels():\n",
    "    kernels = list()\n",
    "    for theta in range(4):\n",
    "        theta = theta / 4. * np.pi\n",
    "        for sigma in (1, 3):\n",
    "            for frequency in (0.05, 0.25):\n",
    "                kernel = gabor_kernel(frequency, theta=theta,\n",
    "                                    sigma_x=sigma, sigma_y=sigma)\n",
    "                kernels.append(np.real(kernel)) \n",
    "    return kernels"
   ]
  },
  {
   "cell_type": "code",
   "execution_count": 8,
   "metadata": {},
   "outputs": [
    {
     "name": "stdout",
     "output_type": "stream",
     "text": [
      "16\n"
     ]
    }
   ],
   "source": [
    "kernels = gabor_kernels()\n",
    "print(len(kernels))"
   ]
  },
  {
   "cell_type": "code",
   "execution_count": 9,
   "metadata": {},
   "outputs": [],
   "source": [
    "filters_cols = None\n",
    "def filters(img, kernels):\n",
    "    \n",
    "    img_gray = cv2.cvtColor(img, cv2.COLOR_BGR2GRAY)\n",
    "    imgs = list()\n",
    "    for kernel in kernels:\n",
    "        fl_img = ndi.convolve(img_gray, kernel, mode='reflect')\n",
    "        fl_img = block_reduce(fl_img, (2,2), np.max)#max pooling\n",
    "        imgs.append(fl_img)\n",
    "        \n",
    "    fl_desc = np.array(imgs).flatten()\n",
    "    \n",
    "    #columns name, carrega se existir para economizar tempo\n",
    "    global filters_cols\n",
    "    if filters_cols is None:\n",
    "        filters_cols = np.array(['filter_%05d'%(i+1) for i in range(len(fl_desc))])\n",
    "    \n",
    "    return fl_desc,filters_cols\n"
   ]
  },
  {
   "cell_type": "code",
   "execution_count": 10,
   "metadata": {},
   "outputs": [
    {
     "name": "stdout",
     "output_type": "stream",
     "text": [
      "(4096,)\n",
      "CPU times: user 27.2 ms, sys: 0 ns, total: 27.2 ms\n",
      "Wall time: 26.9 ms\n"
     ]
    }
   ],
   "source": [
    "%%time\n",
    "gbor, cols4 = filters(img,kernels)\n",
    "print(gbor.shape)"
   ]
  },
  {
   "cell_type": "markdown",
   "metadata": {},
   "source": [
    "# Junta Descritores"
   ]
  },
  {
   "cell_type": "code",
   "execution_count": 11,
   "metadata": {},
   "outputs": [],
   "source": [
    "#Cria um dataframe com uma linha dos descritores\n",
    "def junta_descritores(descritores, colunas):\n",
    "    df = pd.DataFrame()\n",
    "    dfs = list()\n",
    "    for d,c in zip(descritores, colunas):\n",
    "        #dff = pd.DataFrame([d], columns=c,dtype=d.dtype)\n",
    "        dff = pd.Series(d, index=c,dtype=d.dtype)\n",
    "        dfs.append(dff)\n",
    "    df = pd.concat(dfs).to_frame().T\n",
    "    return df"
   ]
  },
  {
   "cell_type": "code",
   "execution_count": 12,
   "metadata": {},
   "outputs": [
    {
     "name": "stdout",
     "output_type": "stream",
     "text": [
      "(1, 7687)\n"
     ]
    },
    {
     "data": {
      "text/html": [
       "<div>\n",
       "<style scoped>\n",
       "    .dataframe tbody tr th:only-of-type {\n",
       "        vertical-align: middle;\n",
       "    }\n",
       "\n",
       "    .dataframe tbody tr th {\n",
       "        vertical-align: top;\n",
       "    }\n",
       "\n",
       "    .dataframe thead th {\n",
       "        text-align: right;\n",
       "    }\n",
       "</style>\n",
       "<table border=\"1\" class=\"dataframe\">\n",
       "  <thead>\n",
       "    <tr style=\"text-align: right;\">\n",
       "      <th></th>\n",
       "      <th>hist_001</th>\n",
       "      <th>hist_002</th>\n",
       "      <th>hist_003</th>\n",
       "      <th>hist_004</th>\n",
       "      <th>hist_005</th>\n",
       "      <th>hist_006</th>\n",
       "      <th>hist_007</th>\n",
       "      <th>hist_008</th>\n",
       "      <th>hist_009</th>\n",
       "      <th>hist_010</th>\n",
       "      <th>...</th>\n",
       "      <th>filter_04087</th>\n",
       "      <th>filter_04088</th>\n",
       "      <th>filter_04089</th>\n",
       "      <th>filter_04090</th>\n",
       "      <th>filter_04091</th>\n",
       "      <th>filter_04092</th>\n",
       "      <th>filter_04093</th>\n",
       "      <th>filter_04094</th>\n",
       "      <th>filter_04095</th>\n",
       "      <th>filter_04096</th>\n",
       "    </tr>\n",
       "  </thead>\n",
       "  <tbody>\n",
       "    <tr>\n",
       "      <th>0</th>\n",
       "      <td>0.003214</td>\n",
       "      <td>0.0</td>\n",
       "      <td>0.0</td>\n",
       "      <td>0.0</td>\n",
       "      <td>0.0</td>\n",
       "      <td>0.0</td>\n",
       "      <td>0.003214</td>\n",
       "      <td>0.016068</td>\n",
       "      <td>0.0</td>\n",
       "      <td>0.003214</td>\n",
       "      <td>...</td>\n",
       "      <td>0.0</td>\n",
       "      <td>1.0</td>\n",
       "      <td>255.0</td>\n",
       "      <td>255.0</td>\n",
       "      <td>1.0</td>\n",
       "      <td>255.0</td>\n",
       "      <td>255.0</td>\n",
       "      <td>0.0</td>\n",
       "      <td>0.0</td>\n",
       "      <td>0.0</td>\n",
       "    </tr>\n",
       "  </tbody>\n",
       "</table>\n",
       "<p>1 rows × 7687 columns</p>\n",
       "</div>"
      ],
      "text/plain": [
       "   hist_001  hist_002  hist_003  hist_004  hist_005  hist_006  hist_007  \\\n",
       "0  0.003214       0.0       0.0       0.0       0.0       0.0  0.003214   \n",
       "\n",
       "   hist_008  hist_009  hist_010  ...  filter_04087  filter_04088  \\\n",
       "0  0.016068       0.0  0.003214  ...           0.0           1.0   \n",
       "\n",
       "   filter_04089  filter_04090  filter_04091  filter_04092  filter_04093  \\\n",
       "0         255.0         255.0           1.0         255.0         255.0   \n",
       "\n",
       "   filter_04094  filter_04095  filter_04096  \n",
       "0           0.0           0.0           0.0  \n",
       "\n",
       "[1 rows x 7687 columns]"
      ]
     },
     "execution_count": 12,
     "metadata": {},
     "output_type": "execute_result"
    }
   ],
   "source": [
    "df = junta_descritores([hist,fvet,hmom,gbor],[cols1,cols2,cols3,cols4])\n",
    "print(df.shape)\n",
    "df"
   ]
  },
  {
   "cell_type": "markdown",
   "metadata": {},
   "source": [
    "# Pipeline"
   ]
  },
  {
   "cell_type": "code",
   "execution_count": 13,
   "metadata": {},
   "outputs": [],
   "source": [
    "# retorna uma serie com os descritores\n",
    "def pipeline1(file_path,kernels):\n",
    "\n",
    "    img = read_image(file_path)\n",
    "    \n",
    "    #descritores\n",
    "    hist, cols1 = extract_color_histogram(img)\n",
    "    fvet, cols2 = image_to_feature_vector(img)\n",
    "    hmom, cols3 = hu_moments(img)\n",
    "    gbor, cols4 = filters(img,kernels)\n",
    "\n",
    "    #...\n",
    "    \n",
    "    #junta\n",
    "    df_row = junta_descritores([hist,fvet,hmom,gbor],[cols1,cols2,cols3,cols4])\n",
    "    return df_row"
   ]
  },
  {
   "cell_type": "code",
   "execution_count": 14,
   "metadata": {},
   "outputs": [],
   "source": [
    "def run_pipeline(n_images = 50000): \n",
    "    \n",
    "    file_csv_path = os.path.join('kaggle',\"data\")+'.csv'\n",
    "    \n",
    "    kernels = gabor_kernels()\n",
    "    \n",
    "    #para cada imagem \n",
    "    first = True\n",
    "    with open(file_csv_path, 'a') as f:\n",
    "        for i in tqdm(range(1,n_images+1)):\n",
    "\n",
    "            #adiciona linha na tabela\n",
    "            file_path = os.path.join(os.path.join('kaggle',\"train\"),str(i))+'.png'\n",
    "            df_row = pipeline1(file_path,kernels)\n",
    "            \n",
    "            #salva\n",
    "            if first:\n",
    "                df_row.to_csv(f,index=False) #salva tmb o nome das colunas\n",
    "                minimos = df_row.copy()\n",
    "                maximos = df_row.copy()\n",
    "            else:\n",
    "                df_row.to_csv(f,mode = 'a',header=False,index=False)\n",
    "                minimos = np.minimum(minimos,df_row.min())\n",
    "                maximos = np.maximum(maximos,df_row.max())\n",
    "            first = False\n",
    "        \n",
    "                \n",
    "    return file_csv_path,maximos,minimos"
   ]
  },
  {
   "cell_type": "code",
   "execution_count": 15,
   "metadata": {
    "scrolled": true
   },
   "outputs": [
    {
     "name": "stderr",
     "output_type": "stream",
     "text": [
      "100%|██████████| 50000/50000 [40:52<00:00, 20.39it/s]  "
     ]
    },
    {
     "name": "stdout",
     "output_type": "stream",
     "text": [
      "CPU times: user 37min 4s, sys: 24 s, total: 37min 28s\n",
      "Wall time: 40min 52s\n"
     ]
    },
    {
     "name": "stderr",
     "output_type": "stream",
     "text": [
      "\n"
     ]
    }
   ],
   "source": [
    "%%time\n",
    "file_path,maximos,minimos = run_pipeline()"
   ]
  },
  {
   "cell_type": "markdown",
   "metadata": {},
   "source": [
    "## Ajusta e Normaliza"
   ]
  },
  {
   "cell_type": "code",
   "execution_count": 16,
   "metadata": {},
   "outputs": [],
   "source": [
    "chunksize = 2500"
   ]
  },
  {
   "cell_type": "code",
   "execution_count": 17,
   "metadata": {},
   "outputs": [],
   "source": [
    "file_path = os.path.join('kaggle',\"data\")+'.csv'\n",
    "df = pd.read_csv(file_path,nrows=1)\n",
    "dtypes = dict()\n",
    "for c in df.columns:\n",
    "    if c[:6]=='filter':\n",
    "        dtypes[c] = np.uint8 \n",
    "    else:\n",
    "        dtypes[c] = np.float32 "
   ]
  },
  {
   "cell_type": "code",
   "execution_count": 18,
   "metadata": {},
   "outputs": [
    {
     "name": "stderr",
     "output_type": "stream",
     "text": [
      "100%|██████████| 50000/50000 [14:29<00:00, 57.47it/s]\n"
     ]
    }
   ],
   "source": [
    "#Normaliza \n",
    "reader = pd.read_csv('kaggle/data.csv',\n",
    "                     chunksize = chunksize,\n",
    "                     dtype = dtypes)\n",
    "first = True\n",
    "with tqdm(total=50000) as pbar:\n",
    "    with open(\"kaggle/data_norm.csv\", 'a') as f:\n",
    "        for chunk in reader:\n",
    "            df = (chunk-minimos.values)/(maximos.values-minimos.values)\n",
    "            if first:\n",
    "                df.astype('float32').to_csv(f,index=False) #salva tmb o nome das colunas\n",
    "            else:\n",
    "                df.astype('float32').to_csv(f,mode = 'a',header=False,index=False)\n",
    "            first = False\n",
    "            pbar.update(chunksize)"
   ]
  },
  {
   "cell_type": "markdown",
   "metadata": {},
   "source": [
    "# PCA\n",
    "lendo os dados em chunks pois o dataframe é muito grande"
   ]
  },
  {
   "cell_type": "code",
   "execution_count": 19,
   "metadata": {},
   "outputs": [],
   "source": [
    "n_components = 2500"
   ]
  },
  {
   "cell_type": "code",
   "execution_count": 20,
   "metadata": {},
   "outputs": [
    {
     "name": "stderr",
     "output_type": "stream",
     "text": [
      "100%|██████████| 50000/50000 [1:23:48<00:00,  9.94it/s]\n"
     ]
    }
   ],
   "source": [
    "#fit \n",
    "reader = pd.read_csv('kaggle/data_norm.csv',\n",
    "                     chunksize = chunksize)\n",
    "pca = IncrementalPCA(n_components=n_components)\n",
    "with tqdm(total=50000) as pbar:\n",
    "    for chunk in reader:\n",
    "        pca.partial_fit(chunk)\n",
    "        pbar.update(chunksize)"
   ]
  },
  {
   "cell_type": "code",
   "execution_count": 21,
   "metadata": {},
   "outputs": [],
   "source": [
    "#salva pca\n",
    "with open('pca.pkl','wb') as f:\n",
    "    pickle.dump(pca,f)\n",
    "#with open('pca.pkl','rb') as f:\n",
    "#    pca = pickle.load(f)"
   ]
  },
  {
   "cell_type": "code",
   "execution_count": 22,
   "metadata": {},
   "outputs": [
    {
     "data": {
      "text/plain": [
       "0.9946063268026906"
      ]
     },
     "execution_count": 22,
     "metadata": {},
     "output_type": "execute_result"
    }
   ],
   "source": [
    "sum(pca.explained_variance_ratio_)"
   ]
  },
  {
   "cell_type": "code",
   "execution_count": 24,
   "metadata": {},
   "outputs": [
    {
     "name": "stderr",
     "output_type": "stream",
     "text": [
      "100%|██████████| 50000/50000 [09:33<00:00, 87.22it/s] \n"
     ]
    }
   ],
   "source": [
    "chunksize = 500\n",
    "#transform\n",
    "reader = pd.read_csv('kaggle/data_norm.csv',\n",
    "                     chunksize = chunksize)\n",
    "\n",
    "with tqdm(total=50000) as pbar:\n",
    "    with open(\"kaggle/data_pca.csv\", 'a') as f:\n",
    "        first = True\n",
    "        for chunk in reader:\n",
    "            principalComponents = pca.transform(chunk)\n",
    "            \n",
    "            #para dataframe\n",
    "            n_components = principalComponents.shape[1] \n",
    "            df_pca = pd.DataFrame(data = principalComponents,\n",
    "                      columns = ['comp_%04d'%i for i in range(n_components)]).astype('float32')\n",
    "            \n",
    "            if first:\n",
    "                df_pca.to_csv(f,index=False) #salva tmb o nome das colunas\n",
    "            else:\n",
    "                df_pca.to_csv(f,mode = 'a',header=False,index=False)\n",
    "            first = False\n",
    "            pbar.update(chunksize)"
   ]
  },
  {
   "cell_type": "code",
   "execution_count": null,
   "metadata": {},
   "outputs": [],
   "source": []
  },
  {
   "cell_type": "code",
   "execution_count": null,
   "metadata": {},
   "outputs": [],
   "source": []
  },
  {
   "cell_type": "markdown",
   "metadata": {},
   "source": [
    "# Escolha do número de componentes do PCA"
   ]
  },
  {
   "cell_type": "code",
   "execution_count": 26,
   "metadata": {},
   "outputs": [
    {
     "data": {
      "image/png": "[encoded data removed]",
      "text/plain": [
       "<Figure size 864x360 with 1 Axes>"
      ]
     },
     "metadata": {
      "needs_background": "light"
     },
     "output_type": "display_data"
    }
   ],
   "source": [
    "#Plotting the Cumulative Summation of the Explained Variance\n",
    "plt.figure(figsize=(12,5))\n",
    "plt.plot(np.cumsum(pca.explained_variance_ratio_))\n",
    "plt.xlabel('Number of Components')\n",
    "plt.ylabel('Variance (%)') #for each component\n",
    "plt.title('Pulsar Dataset Explained Variance')\n",
    "plt.grid()\n",
    "plt.show()"
   ]
  },
  {
   "cell_type": "code",
   "execution_count": 29,
   "metadata": {},
   "outputs": [
    {
     "data": {
      "image/png": "[encoded data removed]",
      "text/plain": [
       "<Figure size 864x360 with 1 Axes>"
      ]
     },
     "metadata": {
      "needs_background": "light"
     },
     "output_type": "display_data"
    }
   ],
   "source": [
    "#Plotting the Cumulative Summation of the Explained Variance\n",
    "plt.figure(figsize=(12,5))\n",
    "plt.plot(np.cumsum(pca.explained_variance_ratio_)[500:])\n",
    "plt.xlabel('Number of Components')\n",
    "plt.ylabel('Variance (%)') #for each component\n",
    "plt.title('Pulsar Dataset Explained Variance')\n",
    "plt.grid()\n",
    "plt.show()"
   ]
  },
  {
   "cell_type": "code",
   "execution_count": null,
   "metadata": {},
   "outputs": [],
   "source": []
  }
 ],
 "metadata": {
  "kernelspec": {
   "display_name": "py3im",
   "language": "python",
   "name": "py3im"
  },
  "language_info": {
   "codemirror_mode": {
    "name": "ipython",
    "version": 3
   },
   "file_extension": ".py",
   "mimetype": "text/x-python",
   "name": "python",
   "nbconvert_exporter": "python",
   "pygments_lexer": "ipython3",
   "version": "3.6.8"
  }
 },
 "nbformat": 4,
 "nbformat_minor": 2
}
