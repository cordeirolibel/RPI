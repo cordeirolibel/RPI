{
 "cells": [
  {
   "cell_type": "code",
   "execution_count": 1,
   "metadata": {},
   "outputs": [],
   "source": [
    "# importa os pacotes necessários\n",
    "import numpy as np\n",
    "import os, cv2, random\n",
    "import pandas as pd\n",
    "import seaborn as sns\n",
    "import matplotlib.pyplot as plt\n",
    "from sklearn.decomposition import PCA\n",
    "import os\n",
    "import warnings\n",
    "warnings.filterwarnings(\"ignore\")\n",
    "%matplotlib inline "
   ]
  },
  {
   "cell_type": "markdown",
   "metadata": {},
   "source": [
    "# Lendo imagem"
   ]
  },
  {
   "cell_type": "code",
   "execution_count": 2,
   "metadata": {},
   "outputs": [
    {
     "name": "stdout",
     "output_type": "stream",
     "text": [
      "(32, 32, 3)\n"
     ]
    },
    {
     "data": {
      "text/plain": [
       "<matplotlib.image.AxesImage at 0x7fc862045278>"
      ]
     },
     "execution_count": 2,
     "metadata": {},
     "output_type": "execute_result"
    },
    {
     "data": {
      "image/png": "[encoded data removed]",
      "text/plain": [
       "<Figure size 432x288 with 1 Axes>"
      ]
     },
     "metadata": {
      "needs_background": "light"
     },
     "output_type": "display_data"
    }
   ],
   "source": [
    "#funções de leitura das imagens\n",
    "def read_image(file_path):\n",
    "    img = cv2.imread(file_path, cv2.IMREAD_COLOR) #cv2.IMREAD_GRAYSCALE\n",
    "    return img#cv2.resize(img, (ROWS, COLS), interpolation=cv2.INTER_CUBIC)\n",
    "img = read_image('kaggle/train/1.png')\n",
    "print(img.shape)\n",
    "plt.imshow(img)"
   ]
  },
  {
   "cell_type": "markdown",
   "metadata": {},
   "source": [
    "# Descritor 1 - Histograma"
   ]
  },
  {
   "cell_type": "code",
   "execution_count": 3,
   "metadata": {},
   "outputs": [
    {
     "data": {
      "text/plain": [
       "((512,), (512,))"
      ]
     },
     "execution_count": 3,
     "metadata": {},
     "output_type": "execute_result"
    },
    {
     "data": {
      "image/png": "[encoded data removed]",
      "text/plain": [
       "<Figure size 432x288 with 1 Axes>"
      ]
     },
     "metadata": {
      "needs_background": "light"
     },
     "output_type": "display_data"
    }
   ],
   "source": [
    "def extract_color_histogram(image, bins=(8, 8, 8)):     \n",
    "    # extract a 3D color histogram from the HSV color space using\n",
    "    # the supplied number of `bins` per channel\n",
    "    #image = cv2.imread(image_file)        \n",
    "    hsv = cv2.cvtColor(image, cv2.COLOR_BGR2HSV)\n",
    "    hist = cv2.calcHist([hsv], [0, 1, 2], None, bins,\n",
    "                        [0, 180, 0, 256, 0, 256])\n",
    "    cv2.normalize(hist, hist)\n",
    "    # the flattened histogram as the feature vector\n",
    "    hist = hist.flatten()\n",
    "    \n",
    "    #columns name\n",
    "    columns = np.array(['hist_%03d'%(i+1) for i in range(len(hist))])\n",
    "    \n",
    "    return hist, columns\n",
    "hist, cols1 = extract_color_histogram(img)\n",
    "plt.plot(hist)\n",
    "hist.shape, cols1.shape"
   ]
  },
  {
   "cell_type": "markdown",
   "metadata": {},
   "source": [
    "# Descritor 2 - Feature Vector"
   ]
  },
  {
   "cell_type": "code",
   "execution_count": 4,
   "metadata": {},
   "outputs": [
    {
     "data": {
      "text/plain": [
       "((3072,), (3072,))"
      ]
     },
     "execution_count": 4,
     "metadata": {},
     "output_type": "execute_result"
    },
    {
     "data": {
      "image/png": "[encoded data removed]",
      "text/plain": [
       "<Figure size 432x288 with 1 Axes>"
      ]
     },
     "metadata": {
      "needs_background": "light"
     },
     "output_type": "display_data"
    }
   ],
   "source": [
    "def image_to_feature_vector(image, size=(32, 32)):\n",
    "    # resize the image to a fixed size, then flatten the image into\n",
    "    # a list of raw pixel intensities\n",
    "    if img.shape[:2] != size:\n",
    "        fvet = cv2.resize(image, size).flatten()\n",
    "    else:\n",
    "        fvet = image.flatten()\n",
    "    fvet = fvet/255\n",
    "    \n",
    "    #columns name\n",
    "    columns = np.array(['fvet_%03d'%(i+1) for i in range(len(fvet))])\n",
    "    \n",
    "    return fvet,columns\n",
    "\n",
    "fvet, cols2 = image_to_feature_vector(img)\n",
    "plt.hist(fvet)\n",
    "fvet.shape, cols2.shape"
   ]
  },
  {
   "cell_type": "markdown",
   "metadata": {},
   "source": [
    "# Descritor 3 - Hu Moments"
   ]
  },
  {
   "cell_type": "code",
   "execution_count": 5,
   "metadata": {},
   "outputs": [
    {
     "name": "stdout",
     "output_type": "stream",
     "text": [
      "[ 1.37597983e-03  8.55818987e-09  1.99613546e-11  5.12474924e-12\n",
      "  4.67974848e-23 -2.65526534e-16  2.22850951e-23]\n"
     ]
    },
    {
     "data": {
      "text/plain": [
       "((7,), (7,))"
      ]
     },
     "execution_count": 5,
     "metadata": {},
     "output_type": "execute_result"
    }
   ],
   "source": [
    "def hu_moments(image, size=(32, 32)):\n",
    "    img_gray = cv2.cvtColor(image, cv2.COLOR_BGR2GRAY)\n",
    "    hmom = cv2.HuMoments(cv2.moments(img_gray)).flatten()\n",
    "    cols = np.array(['humom_1','humom_2','humom_3','humom_4','humom_5','humom_6','humom_7'])\n",
    "    return hmom,cols\n",
    "hmom, cols3 = hu_moments(img)\n",
    "print(hmom)\n",
    "hmom.shape, cols3.shape"
   ]
  },
  {
   "cell_type": "markdown",
   "metadata": {},
   "source": [
    "Ver depois \n",
    "http://wiki.icmc.usp.br/images/d/d7/Dip10_imagedescription-texture.pdf"
   ]
  },
  {
   "cell_type": "markdown",
   "metadata": {},
   "source": [
    "# Junta Descritores"
   ]
  },
  {
   "cell_type": "code",
   "execution_count": 6,
   "metadata": {},
   "outputs": [],
   "source": [
    "#Cria uma serie com descritores\n",
    "def junta_descritores(descritores, colunas):\n",
    "    serie = pd.Series()\n",
    "    for d,c in zip(descritores, colunas):\n",
    "        serie = serie.append(pd.Series(d, index=c))\n",
    "    return serie"
   ]
  },
  {
   "cell_type": "code",
   "execution_count": 7,
   "metadata": {},
   "outputs": [
    {
     "name": "stdout",
     "output_type": "stream",
     "text": [
      "(3591,)\n",
      "hist_001    0.003214\n",
      "hist_002    0.000000\n",
      "hist_003    0.000000\n",
      "dtype: float64\n",
      "humom_5    4.679748e-23\n",
      "humom_6   -2.655265e-16\n",
      "humom_7    2.228510e-23\n",
      "dtype: float64\n"
     ]
    }
   ],
   "source": [
    "serie = junta_descritores([hist,fvet,hmom],[cols1,cols2,cols3])\n",
    "print(serie.shape)\n",
    "print(serie.head(3))\n",
    "print(serie.tail(3))"
   ]
  },
  {
   "cell_type": "markdown",
   "metadata": {},
   "source": [
    "# Pipeline"
   ]
  },
  {
   "cell_type": "code",
   "execution_count": 8,
   "metadata": {},
   "outputs": [],
   "source": [
    "# retorna uma serie com os descritores\n",
    "def pipeline1(file_path):\n",
    "    \n",
    "    img = read_image(file_path)\n",
    "    \n",
    "    #descritores\n",
    "    hist, cols1 = extract_color_histogram(img)\n",
    "    fvet, cols2 = image_to_feature_vector(img,size=(16, 16))\n",
    "    hmom, cols3 = hu_moments(img)\n",
    "    #...\n",
    "    \n",
    "    #junta\n",
    "    serie = junta_descritores([hist,fvet,hmom],[cols1,cols2,cols3])\n",
    "    \n",
    "    return serie"
   ]
  },
  {
   "cell_type": "code",
   "execution_count": 9,
   "metadata": {},
   "outputs": [],
   "source": [
    "def run_pipeline(n_images = 50000, folder = 'train'): \n",
    "    \n",
    "    lista_series = list()\n",
    "    df = pd.DataFrame()\n",
    "    \n",
    "    #para cada imagem \n",
    "    for i in range(n_images):\n",
    "        if (i+1)%1000 == 0:\n",
    "            print(i+1,'/',n_images)\n",
    "            df = df.append(lista_series)\n",
    "            lista_series = list()\n",
    "            \n",
    "        #adiciona linha na tabela\n",
    "        file_path = os.path.join(os.path.join('kaggle',folder),str(i+1))+'.png'\n",
    "        serie = pipeline1(file_path)\n",
    "        lista_series.append(serie)\n",
    "    \n",
    "    if len(lista_series):\n",
    "        df = df.append(lista_series)\n",
    "    df = df.reset_index(drop = True).astype('float32')\n",
    "    \n",
    "    #normaliza\n",
    "    df = (df - df.min())/(df.max() - df.min())\n",
    "    \n",
    "    #PCA\n",
    "    print(\"PCA ...\")\n",
    "    pca = PCA(n_components=0.98)#98% da variância \n",
    "    principalComponents = pca.fit_transform(df)\n",
    "    n_components = principalComponents.shape[1] \n",
    "    print(' ',n_components, 'componentes de',df.shape[1],'colunas')\n",
    "    df_pca = pd.DataFrame(data = principalComponents,\n",
    "                          columns = ['comp_%03d'%i for i in range(n_components)]).astype('float32')\n",
    "    \n",
    "    \n",
    "    #salva\n",
    "    print('Salvando ...')\n",
    "    file_path = os.path.join('kaggle',folder)+'.csv'\n",
    "    df.to_csv(file_path, index=False)\n",
    "    file_path = os.path.join('kaggle',folder+'_pca')+'.csv'\n",
    "    df_pca.to_csv(file_path, index=False)\n",
    "    \n",
    "    print('End')\n",
    "    return df,df_pca"
   ]
  },
  {
   "cell_type": "code",
   "execution_count": 10,
   "metadata": {},
   "outputs": [
    {
     "name": "stdout",
     "output_type": "stream",
     "text": [
      "1000 / 50000\n",
      "2000 / 50000\n",
      "3000 / 50000\n",
      "4000 / 50000\n",
      "5000 / 50000\n",
      "6000 / 50000\n",
      "7000 / 50000\n",
      "8000 / 50000\n",
      "9000 / 50000\n",
      "10000 / 50000\n",
      "11000 / 50000\n",
      "12000 / 50000\n",
      "13000 / 50000\n",
      "14000 / 50000\n",
      "15000 / 50000\n",
      "16000 / 50000\n",
      "17000 / 50000\n",
      "18000 / 50000\n",
      "19000 / 50000\n",
      "20000 / 50000\n",
      "21000 / 50000\n",
      "22000 / 50000\n",
      "23000 / 50000\n",
      "24000 / 50000\n",
      "25000 / 50000\n",
      "26000 / 50000\n",
      "27000 / 50000\n",
      "28000 / 50000\n",
      "29000 / 50000\n",
      "30000 / 50000\n",
      "31000 / 50000\n",
      "32000 / 50000\n",
      "33000 / 50000\n",
      "34000 / 50000\n",
      "35000 / 50000\n",
      "36000 / 50000\n",
      "37000 / 50000\n",
      "38000 / 50000\n",
      "39000 / 50000\n",
      "40000 / 50000\n",
      "41000 / 50000\n",
      "42000 / 50000\n",
      "43000 / 50000\n",
      "44000 / 50000\n",
      "45000 / 50000\n",
      "46000 / 50000\n",
      "47000 / 50000\n",
      "48000 / 50000\n",
      "49000 / 50000\n",
      "50000 / 50000\n",
      "PCA ...\n",
      "  290 componentes de 1287 colunas\n",
      "Salvando ...\n",
      "End\n",
      "CPU times: user 6min 57s, sys: 33.9 s, total: 7min 31s\n",
      "Wall time: 7min 59s\n"
     ]
    }
   ],
   "source": [
    "%%time\n",
    "df,df_pca = run_pipeline()"
   ]
  },
  {
   "cell_type": "code",
   "execution_count": 11,
   "metadata": {},
   "outputs": [
    {
     "name": "stdout",
     "output_type": "stream",
     "text": [
      "(50000, 1287)\n"
     ]
    },
    {
     "data": {
      "text/html": [
       "<div>\n",
       "<style scoped>\n",
       "    .dataframe tbody tr th:only-of-type {\n",
       "        vertical-align: middle;\n",
       "    }\n",
       "\n",
       "    .dataframe tbody tr th {\n",
       "        vertical-align: top;\n",
       "    }\n",
       "\n",
       "    .dataframe thead th {\n",
       "        text-align: right;\n",
       "    }\n",
       "</style>\n",
       "<table border=\"1\" class=\"dataframe\">\n",
       "  <thead>\n",
       "    <tr style=\"text-align: right;\">\n",
       "      <th></th>\n",
       "      <th>hist_001</th>\n",
       "      <th>hist_002</th>\n",
       "      <th>hist_003</th>\n",
       "      <th>hist_004</th>\n",
       "      <th>hist_005</th>\n",
       "      <th>hist_006</th>\n",
       "      <th>hist_007</th>\n",
       "      <th>hist_008</th>\n",
       "      <th>hist_009</th>\n",
       "      <th>hist_010</th>\n",
       "      <th>...</th>\n",
       "      <th>fvet_766</th>\n",
       "      <th>fvet_767</th>\n",
       "      <th>fvet_768</th>\n",
       "      <th>humom_1</th>\n",
       "      <th>humom_2</th>\n",
       "      <th>humom_3</th>\n",
       "      <th>humom_4</th>\n",
       "      <th>humom_5</th>\n",
       "      <th>humom_6</th>\n",
       "      <th>humom_7</th>\n",
       "    </tr>\n",
       "  </thead>\n",
       "  <tbody>\n",
       "    <tr>\n",
       "      <th>0</th>\n",
       "      <td>0.003221</td>\n",
       "      <td>0.000000</td>\n",
       "      <td>0.000000</td>\n",
       "      <td>0.000000</td>\n",
       "      <td>0.000000</td>\n",
       "      <td>0.000000</td>\n",
       "      <td>0.003228</td>\n",
       "      <td>0.016071</td>\n",
       "      <td>0.000000</td>\n",
       "      <td>0.003473</td>\n",
       "      <td>...</td>\n",
       "      <td>0.219608</td>\n",
       "      <td>0.317647</td>\n",
       "      <td>0.447059</td>\n",
       "      <td>0.071065</td>\n",
       "      <td>0.000586</td>\n",
       "      <td>0.000493</td>\n",
       "      <td>0.000124</td>\n",
       "      <td>0.290060</td>\n",
       "      <td>0.492908</td>\n",
       "      <td>0.281908</td>\n",
       "    </tr>\n",
       "    <tr>\n",
       "      <th>1</th>\n",
       "      <td>0.007562</td>\n",
       "      <td>0.007663</td>\n",
       "      <td>0.022684</td>\n",
       "      <td>0.078495</td>\n",
       "      <td>0.022841</td>\n",
       "      <td>0.045888</td>\n",
       "      <td>0.098514</td>\n",
       "      <td>0.120741</td>\n",
       "      <td>0.000000</td>\n",
       "      <td>0.016306</td>\n",
       "      <td>...</td>\n",
       "      <td>0.525490</td>\n",
       "      <td>0.494118</td>\n",
       "      <td>0.529412</td>\n",
       "      <td>0.048714</td>\n",
       "      <td>0.000138</td>\n",
       "      <td>0.000956</td>\n",
       "      <td>0.000156</td>\n",
       "      <td>0.290060</td>\n",
       "      <td>0.492908</td>\n",
       "      <td>0.281909</td>\n",
       "    </tr>\n",
       "    <tr>\n",
       "      <th>2</th>\n",
       "      <td>0.000000</td>\n",
       "      <td>0.000000</td>\n",
       "      <td>0.026808</td>\n",
       "      <td>0.015902</td>\n",
       "      <td>0.000000</td>\n",
       "      <td>0.011621</td>\n",
       "      <td>0.042219</td>\n",
       "      <td>0.703259</td>\n",
       "      <td>0.005917</td>\n",
       "      <td>0.024776</td>\n",
       "      <td>...</td>\n",
       "      <td>0.317647</td>\n",
       "      <td>0.325490</td>\n",
       "      <td>0.301961</td>\n",
       "      <td>0.057842</td>\n",
       "      <td>0.000666</td>\n",
       "      <td>0.002769</td>\n",
       "      <td>0.002802</td>\n",
       "      <td>0.290069</td>\n",
       "      <td>0.492803</td>\n",
       "      <td>0.281925</td>\n",
       "    </tr>\n",
       "    <tr>\n",
       "      <th>3</th>\n",
       "      <td>0.000000</td>\n",
       "      <td>0.000000</td>\n",
       "      <td>0.000000</td>\n",
       "      <td>0.000000</td>\n",
       "      <td>0.000000</td>\n",
       "      <td>0.000000</td>\n",
       "      <td>0.000000</td>\n",
       "      <td>0.000000</td>\n",
       "      <td>0.000000</td>\n",
       "      <td>0.000000</td>\n",
       "      <td>...</td>\n",
       "      <td>0.184314</td>\n",
       "      <td>0.262745</td>\n",
       "      <td>0.286275</td>\n",
       "      <td>0.104606</td>\n",
       "      <td>0.000458</td>\n",
       "      <td>0.000204</td>\n",
       "      <td>0.000065</td>\n",
       "      <td>0.290060</td>\n",
       "      <td>0.492910</td>\n",
       "      <td>0.281908</td>\n",
       "    </tr>\n",
       "    <tr>\n",
       "      <th>4</th>\n",
       "      <td>0.011941</td>\n",
       "      <td>0.012101</td>\n",
       "      <td>0.202994</td>\n",
       "      <td>0.049582</td>\n",
       "      <td>0.030058</td>\n",
       "      <td>0.030194</td>\n",
       "      <td>0.053851</td>\n",
       "      <td>0.131086</td>\n",
       "      <td>0.009224</td>\n",
       "      <td>0.064374</td>\n",
       "      <td>...</td>\n",
       "      <td>0.309804</td>\n",
       "      <td>0.298039</td>\n",
       "      <td>0.282353</td>\n",
       "      <td>0.094153</td>\n",
       "      <td>0.002421</td>\n",
       "      <td>0.001660</td>\n",
       "      <td>0.000347</td>\n",
       "      <td>0.290059</td>\n",
       "      <td>0.492886</td>\n",
       "      <td>0.281909</td>\n",
       "    </tr>\n",
       "  </tbody>\n",
       "</table>\n",
       "<p>5 rows × 1287 columns</p>\n",
       "</div>"
      ],
      "text/plain": [
       "   hist_001  hist_002  hist_003  hist_004  hist_005  hist_006  hist_007  \\\n",
       "0  0.003221  0.000000  0.000000  0.000000  0.000000  0.000000  0.003228   \n",
       "1  0.007562  0.007663  0.022684  0.078495  0.022841  0.045888  0.098514   \n",
       "2  0.000000  0.000000  0.026808  0.015902  0.000000  0.011621  0.042219   \n",
       "3  0.000000  0.000000  0.000000  0.000000  0.000000  0.000000  0.000000   \n",
       "4  0.011941  0.012101  0.202994  0.049582  0.030058  0.030194  0.053851   \n",
       "\n",
       "   hist_008  hist_009  hist_010  ...  fvet_766  fvet_767  fvet_768   humom_1  \\\n",
       "0  0.016071  0.000000  0.003473  ...  0.219608  0.317647  0.447059  0.071065   \n",
       "1  0.120741  0.000000  0.016306  ...  0.525490  0.494118  0.529412  0.048714   \n",
       "2  0.703259  0.005917  0.024776  ...  0.317647  0.325490  0.301961  0.057842   \n",
       "3  0.000000  0.000000  0.000000  ...  0.184314  0.262745  0.286275  0.104606   \n",
       "4  0.131086  0.009224  0.064374  ...  0.309804  0.298039  0.282353  0.094153   \n",
       "\n",
       "    humom_2   humom_3   humom_4   humom_5   humom_6   humom_7  \n",
       "0  0.000586  0.000493  0.000124  0.290060  0.492908  0.281908  \n",
       "1  0.000138  0.000956  0.000156  0.290060  0.492908  0.281909  \n",
       "2  0.000666  0.002769  0.002802  0.290069  0.492803  0.281925  \n",
       "3  0.000458  0.000204  0.000065  0.290060  0.492910  0.281908  \n",
       "4  0.002421  0.001660  0.000347  0.290059  0.492886  0.281909  \n",
       "\n",
       "[5 rows x 1287 columns]"
      ]
     },
     "execution_count": 11,
     "metadata": {},
     "output_type": "execute_result"
    }
   ],
   "source": [
    "print(df.shape)\n",
    "df.head()"
   ]
  },
  {
   "cell_type": "code",
   "execution_count": 12,
   "metadata": {},
   "outputs": [
    {
     "name": "stdout",
     "output_type": "stream",
     "text": [
      "(50000, 290)\n"
     ]
    },
    {
     "data": {
      "text/html": [
       "<div>\n",
       "<style scoped>\n",
       "    .dataframe tbody tr th:only-of-type {\n",
       "        vertical-align: middle;\n",
       "    }\n",
       "\n",
       "    .dataframe tbody tr th {\n",
       "        vertical-align: top;\n",
       "    }\n",
       "\n",
       "    .dataframe thead th {\n",
       "        text-align: right;\n",
       "    }\n",
       "</style>\n",
       "<table border=\"1\" class=\"dataframe\">\n",
       "  <thead>\n",
       "    <tr style=\"text-align: right;\">\n",
       "      <th></th>\n",
       "      <th>comp_000</th>\n",
       "      <th>comp_001</th>\n",
       "      <th>comp_002</th>\n",
       "      <th>comp_003</th>\n",
       "      <th>comp_004</th>\n",
       "      <th>comp_005</th>\n",
       "      <th>comp_006</th>\n",
       "      <th>comp_007</th>\n",
       "      <th>comp_008</th>\n",
       "      <th>comp_009</th>\n",
       "      <th>...</th>\n",
       "      <th>comp_280</th>\n",
       "      <th>comp_281</th>\n",
       "      <th>comp_282</th>\n",
       "      <th>comp_283</th>\n",
       "      <th>comp_284</th>\n",
       "      <th>comp_285</th>\n",
       "      <th>comp_286</th>\n",
       "      <th>comp_287</th>\n",
       "      <th>comp_288</th>\n",
       "      <th>comp_289</th>\n",
       "    </tr>\n",
       "  </thead>\n",
       "  <tbody>\n",
       "    <tr>\n",
       "      <th>0</th>\n",
       "      <td>-3.197660</td>\n",
       "      <td>1.381055</td>\n",
       "      <td>0.740043</td>\n",
       "      <td>2.345486</td>\n",
       "      <td>1.345046</td>\n",
       "      <td>0.292847</td>\n",
       "      <td>-0.320646</td>\n",
       "      <td>0.191596</td>\n",
       "      <td>-1.637430</td>\n",
       "      <td>0.573352</td>\n",
       "      <td>...</td>\n",
       "      <td>0.091306</td>\n",
       "      <td>0.168859</td>\n",
       "      <td>0.053704</td>\n",
       "      <td>-0.107979</td>\n",
       "      <td>-0.134570</td>\n",
       "      <td>0.036341</td>\n",
       "      <td>-0.027506</td>\n",
       "      <td>-0.060461</td>\n",
       "      <td>-0.008489</td>\n",
       "      <td>-0.032451</td>\n",
       "    </tr>\n",
       "    <tr>\n",
       "      <th>1</th>\n",
       "      <td>0.432848</td>\n",
       "      <td>-0.474345</td>\n",
       "      <td>2.986024</td>\n",
       "      <td>-0.357867</td>\n",
       "      <td>0.953658</td>\n",
       "      <td>0.585376</td>\n",
       "      <td>-0.342184</td>\n",
       "      <td>-0.177411</td>\n",
       "      <td>-1.300116</td>\n",
       "      <td>1.279692</td>\n",
       "      <td>...</td>\n",
       "      <td>0.012879</td>\n",
       "      <td>0.064904</td>\n",
       "      <td>-0.122059</td>\n",
       "      <td>-0.110912</td>\n",
       "      <td>-0.004185</td>\n",
       "      <td>0.053273</td>\n",
       "      <td>0.151464</td>\n",
       "      <td>-0.032301</td>\n",
       "      <td>-0.047744</td>\n",
       "      <td>0.075484</td>\n",
       "    </tr>\n",
       "    <tr>\n",
       "      <th>2</th>\n",
       "      <td>3.866156</td>\n",
       "      <td>-5.751686</td>\n",
       "      <td>-1.397291</td>\n",
       "      <td>-0.681969</td>\n",
       "      <td>1.236071</td>\n",
       "      <td>-1.105396</td>\n",
       "      <td>0.325054</td>\n",
       "      <td>-0.697993</td>\n",
       "      <td>0.270854</td>\n",
       "      <td>-0.565203</td>\n",
       "      <td>...</td>\n",
       "      <td>-0.082321</td>\n",
       "      <td>-0.102567</td>\n",
       "      <td>-0.106817</td>\n",
       "      <td>-0.061066</td>\n",
       "      <td>-0.044525</td>\n",
       "      <td>0.033918</td>\n",
       "      <td>0.071953</td>\n",
       "      <td>0.004957</td>\n",
       "      <td>0.054393</td>\n",
       "      <td>-0.110565</td>\n",
       "    </tr>\n",
       "    <tr>\n",
       "      <th>3</th>\n",
       "      <td>-5.177608</td>\n",
       "      <td>0.012106</td>\n",
       "      <td>0.538429</td>\n",
       "      <td>0.961400</td>\n",
       "      <td>0.426960</td>\n",
       "      <td>0.424047</td>\n",
       "      <td>-0.134329</td>\n",
       "      <td>0.168936</td>\n",
       "      <td>-0.718516</td>\n",
       "      <td>-0.185658</td>\n",
       "      <td>...</td>\n",
       "      <td>-0.022881</td>\n",
       "      <td>-0.053927</td>\n",
       "      <td>-0.069859</td>\n",
       "      <td>0.067906</td>\n",
       "      <td>-0.024674</td>\n",
       "      <td>0.015147</td>\n",
       "      <td>0.050277</td>\n",
       "      <td>0.032631</td>\n",
       "      <td>-0.014011</td>\n",
       "      <td>-0.001531</td>\n",
       "    </tr>\n",
       "    <tr>\n",
       "      <th>4</th>\n",
       "      <td>-1.303244</td>\n",
       "      <td>-2.490025</td>\n",
       "      <td>0.527267</td>\n",
       "      <td>-1.786173</td>\n",
       "      <td>0.141412</td>\n",
       "      <td>-0.108555</td>\n",
       "      <td>-2.791836</td>\n",
       "      <td>0.842301</td>\n",
       "      <td>-1.858630</td>\n",
       "      <td>-0.962537</td>\n",
       "      <td>...</td>\n",
       "      <td>0.018518</td>\n",
       "      <td>-0.038903</td>\n",
       "      <td>0.110861</td>\n",
       "      <td>0.084957</td>\n",
       "      <td>0.023974</td>\n",
       "      <td>-0.094583</td>\n",
       "      <td>-0.185005</td>\n",
       "      <td>-0.142309</td>\n",
       "      <td>0.017405</td>\n",
       "      <td>-0.035427</td>\n",
       "    </tr>\n",
       "  </tbody>\n",
       "</table>\n",
       "<p>5 rows × 290 columns</p>\n",
       "</div>"
      ],
      "text/plain": [
       "   comp_000  comp_001  comp_002  comp_003  comp_004  comp_005  comp_006  \\\n",
       "0 -3.197660  1.381055  0.740043  2.345486  1.345046  0.292847 -0.320646   \n",
       "1  0.432848 -0.474345  2.986024 -0.357867  0.953658  0.585376 -0.342184   \n",
       "2  3.866156 -5.751686 -1.397291 -0.681969  1.236071 -1.105396  0.325054   \n",
       "3 -5.177608  0.012106  0.538429  0.961400  0.426960  0.424047 -0.134329   \n",
       "4 -1.303244 -2.490025  0.527267 -1.786173  0.141412 -0.108555 -2.791836   \n",
       "\n",
       "   comp_007  comp_008  comp_009  ...  comp_280  comp_281  comp_282  comp_283  \\\n",
       "0  0.191596 -1.637430  0.573352  ...  0.091306  0.168859  0.053704 -0.107979   \n",
       "1 -0.177411 -1.300116  1.279692  ...  0.012879  0.064904 -0.122059 -0.110912   \n",
       "2 -0.697993  0.270854 -0.565203  ... -0.082321 -0.102567 -0.106817 -0.061066   \n",
       "3  0.168936 -0.718516 -0.185658  ... -0.022881 -0.053927 -0.069859  0.067906   \n",
       "4  0.842301 -1.858630 -0.962537  ...  0.018518 -0.038903  0.110861  0.084957   \n",
       "\n",
       "   comp_284  comp_285  comp_286  comp_287  comp_288  comp_289  \n",
       "0 -0.134570  0.036341 -0.027506 -0.060461 -0.008489 -0.032451  \n",
       "1 -0.004185  0.053273  0.151464 -0.032301 -0.047744  0.075484  \n",
       "2 -0.044525  0.033918  0.071953  0.004957  0.054393 -0.110565  \n",
       "3 -0.024674  0.015147  0.050277  0.032631 -0.014011 -0.001531  \n",
       "4  0.023974 -0.094583 -0.185005 -0.142309  0.017405 -0.035427  \n",
       "\n",
       "[5 rows x 290 columns]"
      ]
     },
     "execution_count": 12,
     "metadata": {},
     "output_type": "execute_result"
    }
   ],
   "source": [
    "print(df_pca.shape)\n",
    "df_pca.head()"
   ]
  },
  {
   "cell_type": "code",
   "execution_count": null,
   "metadata": {},
   "outputs": [],
   "source": []
  },
  {
   "cell_type": "markdown",
   "metadata": {},
   "source": [
    "# Escolha do número de componentes do PCA"
   ]
  },
  {
   "cell_type": "code",
   "execution_count": 13,
   "metadata": {},
   "outputs": [],
   "source": [
    "#Fitting the PCA algorithm with our Data\n",
    "pca = PCA().fit(df)"
   ]
  },
  {
   "cell_type": "code",
   "execution_count": 14,
   "metadata": {},
   "outputs": [
    {
     "data": {
      "image/png": "[encoded data removed]",
      "text/plain": [
       "<Figure size 864x360 with 1 Axes>"
      ]
     },
     "metadata": {
      "needs_background": "light"
     },
     "output_type": "display_data"
    }
   ],
   "source": [
    "#Plotting the Cumulative Summation of the Explained Variance\n",
    "plt.figure(figsize=(12,5))\n",
    "plt.plot(np.cumsum(pca.explained_variance_ratio_))\n",
    "plt.xlabel('Number of Components')\n",
    "plt.ylabel('Variance (%)') #for each component\n",
    "plt.title('Pulsar Dataset Explained Variance')\n",
    "plt.grid()\n",
    "plt.show()"
   ]
  },
  {
   "cell_type": "code",
   "execution_count": 15,
   "metadata": {},
   "outputs": [
    {
     "data": {
      "image/png": "[encoded data removed]",
      "text/plain": [
       "<Figure size 864x360 with 1 Axes>"
      ]
     },
     "metadata": {
      "needs_background": "light"
     },
     "output_type": "display_data"
    }
   ],
   "source": [
    "#Plotting the Cumulative Summation of the Explained Variance\n",
    "plt.figure(figsize=(12,5))\n",
    "plt.plot(np.cumsum(pca.explained_variance_ratio_)[50:600])\n",
    "plt.xlabel('Number of Components')\n",
    "plt.ylabel('Variance (%)') #for each component\n",
    "plt.title('Pulsar Dataset Explained Variance')\n",
    "plt.grid()\n",
    "plt.show()"
   ]
  },
  {
   "cell_type": "markdown",
   "metadata": {},
   "source": [
    "Escolhemos por não selecionar manualmente o número de componentes, mas utilizar um limiar de 98% da variância que possui uma boa representação dos dados. "
   ]
  },
  {
   "cell_type": "code",
   "execution_count": null,
   "metadata": {},
   "outputs": [],
   "source": []
  }
 ],
 "metadata": {
  "kernelspec": {
   "display_name": "py3im",
   "language": "python",
   "name": "py3im"
  },
  "language_info": {
   "codemirror_mode": {
    "name": "ipython",
    "version": 3
   },
   "file_extension": ".py",
   "mimetype": "text/x-python",
   "name": "python",
   "nbconvert_exporter": "python",
   "pygments_lexer": "ipython3",
   "version": "3.6.8"
  }
 },
 "nbformat": 4,
 "nbformat_minor": 2
}
