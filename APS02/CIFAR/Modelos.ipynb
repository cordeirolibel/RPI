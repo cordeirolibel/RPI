{
 "cells": [
  {
   "cell_type": "code",
   "execution_count": 1,
   "metadata": {},
   "outputs": [],
   "source": [
    "# importa os pacotes necessários\n",
    "import numpy as np\n",
    "import os, gc, cv2, random\n",
    "import pandas as pd\n",
    "import seaborn as sns\n",
    "import matplotlib.pyplot as plt\n",
    "%matplotlib inline \n",
    "\n",
    "import warnings\n",
    "warnings.filterwarnings(\"ignore\")\n",
    "\n",
    "from sklearn import tree\n",
    "from sklearn.tree import DecisionTreeClassifier\n",
    "from sklearn.neighbors import KNeighborsClassifier\n",
    "from sklearn.naive_bayes import GaussianNB\n",
    "from sklearn.model_selection import train_test_split\n",
    "import sklearn.metrics\n",
    "from sklearn.metrics import classification_report\n",
    "from sklearn.model_selection import  cross_val_score\n",
    "\n",
    "from sklearn import svm\n",
    "from skimage.feature import greycomatrix, greycoprops\n",
    "from skimage.feature import hog\n",
    "from sklearn.metrics import classification_report\n",
    "from sklearn.linear_model import LogisticRegression\n",
    "\n",
    "from sklearn.svm import LinearSVC\n",
    "from sklearn.svm import SVC"
   ]
  },
  {
   "cell_type": "code",
   "execution_count": 2,
   "metadata": {},
   "outputs": [],
   "source": [
    "df = pd.read_csv('kaggle/data_pca.csv')\n",
    "df_labels = pd.read_csv('kaggle/data_labels.csv')"
   ]
  },
  {
   "cell_type": "code",
   "execution_count": 3,
   "metadata": {},
   "outputs": [],
   "source": [
    "#df=(df-df.min())/(df.max()-df.min())"
   ]
  },
  {
   "cell_type": "code",
   "execution_count": 3,
   "metadata": {},
   "outputs": [
    {
     "data": {
      "text/plain": [
       "((35000, 2500), (15000, 2500))"
      ]
     },
     "execution_count": 3,
     "metadata": {},
     "output_type": "execute_result"
    }
   ],
   "source": [
    "X_train, X_test, y_train, y_test = train_test_split(df, df_labels.label.values, test_size = 0.3, random_state = 42)\n",
    "del df\n",
    "X_train.shape,X_test.shape"
   ]
  },
  {
   "cell_type": "markdown",
   "metadata": {},
   "source": [
    "# Logistic Regression\n",
    "Utilizando regressão logistica para ter uma base de comparação com os demais modelos."
   ]
  },
  {
   "cell_type": "markdown",
   "metadata": {},
   "source": [
    "#### nomalizado antes e padding"
   ]
  },
  {
   "cell_type": "code",
   "execution_count": 5,
   "metadata": {},
   "outputs": [
    {
     "name": "stdout",
     "output_type": "stream",
     "text": [
      "Wall time: 11min 35s\n"
     ]
    },
    {
     "data": {
      "text/plain": [
       "LogisticRegression(C=1.0, class_weight=None, dual=False, fit_intercept=True,\n",
       "                   intercept_scaling=1, l1_ratio=None, max_iter=100,\n",
       "                   multi_class='warn', n_jobs=2, penalty='l2',\n",
       "                   random_state=None, solver='saga', tol=0.0001, verbose=0,\n",
       "                   warm_start=False)"
      ]
     },
     "execution_count": 5,
     "metadata": {},
     "output_type": "execute_result"
    }
   ],
   "source": [
    "%%time\n",
    "logreg = LogisticRegression(solver='saga',n_jobs=2)\n",
    "logreg.fit(X_train, y_train)"
   ]
  },
  {
   "cell_type": "code",
   "execution_count": 6,
   "metadata": {},
   "outputs": [
    {
     "data": {
      "text/html": [
       "<div>\n",
       "<style scoped>\n",
       "    .dataframe tbody tr th:only-of-type {\n",
       "        vertical-align: middle;\n",
       "    }\n",
       "\n",
       "    .dataframe tbody tr th {\n",
       "        vertical-align: top;\n",
       "    }\n",
       "\n",
       "    .dataframe thead th {\n",
       "        text-align: right;\n",
       "    }\n",
       "</style>\n",
       "<table border=\"1\" class=\"dataframe\">\n",
       "  <thead>\n",
       "    <tr style=\"text-align: right;\">\n",
       "      <th></th>\n",
       "      <th>airplane</th>\n",
       "      <th>automobile</th>\n",
       "      <th>bird</th>\n",
       "      <th>cat</th>\n",
       "      <th>deer</th>\n",
       "      <th>dog</th>\n",
       "      <th>frog</th>\n",
       "      <th>horse</th>\n",
       "      <th>ship</th>\n",
       "      <th>truck</th>\n",
       "      <th>accuracy</th>\n",
       "      <th>macro avg</th>\n",
       "      <th>weighted avg</th>\n",
       "    </tr>\n",
       "  </thead>\n",
       "  <tbody>\n",
       "    <tr>\n",
       "      <th>f1-score</th>\n",
       "      <td>0.602941</td>\n",
       "      <td>0.633854</td>\n",
       "      <td>0.449190</td>\n",
       "      <td>0.375000</td>\n",
       "      <td>0.452778</td>\n",
       "      <td>0.439268</td>\n",
       "      <td>0.611780</td>\n",
       "      <td>0.610181</td>\n",
       "      <td>0.709022</td>\n",
       "      <td>0.627041</td>\n",
       "      <td>0.5532</td>\n",
       "      <td>0.551106</td>\n",
       "      <td>0.550898</td>\n",
       "    </tr>\n",
       "    <tr>\n",
       "      <th>precision</th>\n",
       "      <td>0.593812</td>\n",
       "      <td>0.622876</td>\n",
       "      <td>0.464718</td>\n",
       "      <td>0.393723</td>\n",
       "      <td>0.451836</td>\n",
       "      <td>0.452055</td>\n",
       "      <td>0.584577</td>\n",
       "      <td>0.609365</td>\n",
       "      <td>0.696629</td>\n",
       "      <td>0.624187</td>\n",
       "      <td>0.5532</td>\n",
       "      <td>0.549378</td>\n",
       "      <td>0.549320</td>\n",
       "    </tr>\n",
       "    <tr>\n",
       "      <th>recall</th>\n",
       "      <td>0.612356</td>\n",
       "      <td>0.645227</td>\n",
       "      <td>0.434667</td>\n",
       "      <td>0.357977</td>\n",
       "      <td>0.453723</td>\n",
       "      <td>0.427184</td>\n",
       "      <td>0.641638</td>\n",
       "      <td>0.610999</td>\n",
       "      <td>0.721863</td>\n",
       "      <td>0.629921</td>\n",
       "      <td>0.5532</td>\n",
       "      <td>0.553556</td>\n",
       "      <td>0.553200</td>\n",
       "    </tr>\n",
       "    <tr>\n",
       "      <th>support</th>\n",
       "      <td>1473.000000</td>\n",
       "      <td>1477.000000</td>\n",
       "      <td>1500.000000</td>\n",
       "      <td>1542.000000</td>\n",
       "      <td>1437.000000</td>\n",
       "      <td>1545.000000</td>\n",
       "      <td>1465.000000</td>\n",
       "      <td>1491.000000</td>\n",
       "      <td>1546.000000</td>\n",
       "      <td>1524.000000</td>\n",
       "      <td>0.5532</td>\n",
       "      <td>15000.000000</td>\n",
       "      <td>15000.000000</td>\n",
       "    </tr>\n",
       "  </tbody>\n",
       "</table>\n",
       "</div>"
      ],
      "text/plain": [
       "              airplane   automobile         bird          cat         deer  \\\n",
       "f1-score      0.602941     0.633854     0.449190     0.375000     0.452778   \n",
       "precision     0.593812     0.622876     0.464718     0.393723     0.451836   \n",
       "recall        0.612356     0.645227     0.434667     0.357977     0.453723   \n",
       "support    1473.000000  1477.000000  1500.000000  1542.000000  1437.000000   \n",
       "\n",
       "                   dog         frog        horse         ship        truck  \\\n",
       "f1-score      0.439268     0.611780     0.610181     0.709022     0.627041   \n",
       "precision     0.452055     0.584577     0.609365     0.696629     0.624187   \n",
       "recall        0.427184     0.641638     0.610999     0.721863     0.629921   \n",
       "support    1545.000000  1465.000000  1491.000000  1546.000000  1524.000000   \n",
       "\n",
       "           accuracy     macro avg  weighted avg  \n",
       "f1-score     0.5532      0.551106      0.550898  \n",
       "precision    0.5532      0.549378      0.549320  \n",
       "recall       0.5532      0.553556      0.553200  \n",
       "support      0.5532  15000.000000  15000.000000  "
      ]
     },
     "execution_count": 6,
     "metadata": {},
     "output_type": "execute_result"
    }
   ],
   "source": [
    "# avalia predicao\n",
    "y_pred = logreg.predict(X_test)\n",
    "report = classification_report(y_test, y_pred,output_dict = True)\n",
    "pd.DataFrame(report)"
   ]
  },
  {
   "cell_type": "code",
   "execution_count": null,
   "metadata": {},
   "outputs": [],
   "source": [
    "%%time\n",
    "logreg = LogisticRegression(solver='saga',n_jobs=4)\n",
    "logreg.fit(X_train.iloc[:,:1500], y_train)"
   ]
  },
  {
   "cell_type": "code",
   "execution_count": null,
   "metadata": {},
   "outputs": [],
   "source": [
    "# avalia predicao\n",
    "y_pred = logreg.predict(X_test.iloc[:,:1500])\n",
    "report = classification_report(y_test, y_pred,output_dict = True)\n",
    "pd.DataFrame(report)"
   ]
  },
  {
   "cell_type": "markdown",
   "metadata": {},
   "source": [
    "# Linear SVM\n",
    "Classificador SVM otimizado para o kernel linear, pode não dar o mesmo \n",
    "resultado se comparado ao sklearn.svm.SVC(), mas tem um tempo de execução menor"
   ]
  },
  {
   "cell_type": "code",
   "execution_count": 4,
   "metadata": {},
   "outputs": [
    {
     "name": "stdout",
     "output_type": "stream",
     "text": [
      "Wall time: 30min 47s\n"
     ]
    },
    {
     "data": {
      "text/plain": [
       "LinearSVC(C=1.0, class_weight=None, dual=True, fit_intercept=True,\n",
       "          intercept_scaling=1, loss='squared_hinge', max_iter=1000,\n",
       "          multi_class='ovr', penalty='l2', random_state=None, tol=0.0001,\n",
       "          verbose=0)"
      ]
     },
     "execution_count": 4,
     "metadata": {},
     "output_type": "execute_result"
    }
   ],
   "source": [
    "%%time\n",
    "svclassifier = LinearSVC()\n",
    "svclassifier.fit(X_train, y_train)"
   ]
  },
  {
   "cell_type": "code",
   "execution_count": 5,
   "metadata": {},
   "outputs": [
    {
     "data": {
      "text/html": [
       "<div>\n",
       "<style scoped>\n",
       "    .dataframe tbody tr th:only-of-type {\n",
       "        vertical-align: middle;\n",
       "    }\n",
       "\n",
       "    .dataframe tbody tr th {\n",
       "        vertical-align: top;\n",
       "    }\n",
       "\n",
       "    .dataframe thead th {\n",
       "        text-align: right;\n",
       "    }\n",
       "</style>\n",
       "<table border=\"1\" class=\"dataframe\">\n",
       "  <thead>\n",
       "    <tr style=\"text-align: right;\">\n",
       "      <th></th>\n",
       "      <th>airplane</th>\n",
       "      <th>automobile</th>\n",
       "      <th>bird</th>\n",
       "      <th>cat</th>\n",
       "      <th>deer</th>\n",
       "      <th>dog</th>\n",
       "      <th>frog</th>\n",
       "      <th>horse</th>\n",
       "      <th>ship</th>\n",
       "      <th>truck</th>\n",
       "      <th>accuracy</th>\n",
       "      <th>macro avg</th>\n",
       "      <th>weighted avg</th>\n",
       "    </tr>\n",
       "  </thead>\n",
       "  <tbody>\n",
       "    <tr>\n",
       "      <th>f1-score</th>\n",
       "      <td>0.574206</td>\n",
       "      <td>0.590769</td>\n",
       "      <td>0.399304</td>\n",
       "      <td>0.321023</td>\n",
       "      <td>0.437086</td>\n",
       "      <td>0.430493</td>\n",
       "      <td>0.573123</td>\n",
       "      <td>0.571429</td>\n",
       "      <td>0.656047</td>\n",
       "      <td>0.596301</td>\n",
       "      <td>0.517533</td>\n",
       "      <td>0.514978</td>\n",
       "      <td>0.514679</td>\n",
       "    </tr>\n",
       "    <tr>\n",
       "      <th>precision</th>\n",
       "      <td>0.549287</td>\n",
       "      <td>0.596685</td>\n",
       "      <td>0.417455</td>\n",
       "      <td>0.354788</td>\n",
       "      <td>0.437849</td>\n",
       "      <td>0.426126</td>\n",
       "      <td>0.553787</td>\n",
       "      <td>0.557398</td>\n",
       "      <td>0.659477</td>\n",
       "      <td>0.580025</td>\n",
       "      <td>0.517533</td>\n",
       "      <td>0.513288</td>\n",
       "      <td>0.513141</td>\n",
       "    </tr>\n",
       "    <tr>\n",
       "      <th>recall</th>\n",
       "      <td>0.601494</td>\n",
       "      <td>0.584970</td>\n",
       "      <td>0.382667</td>\n",
       "      <td>0.293126</td>\n",
       "      <td>0.436326</td>\n",
       "      <td>0.434951</td>\n",
       "      <td>0.593857</td>\n",
       "      <td>0.586184</td>\n",
       "      <td>0.652652</td>\n",
       "      <td>0.613517</td>\n",
       "      <td>0.517533</td>\n",
       "      <td>0.517974</td>\n",
       "      <td>0.517533</td>\n",
       "    </tr>\n",
       "    <tr>\n",
       "      <th>support</th>\n",
       "      <td>1473.000000</td>\n",
       "      <td>1477.000000</td>\n",
       "      <td>1500.000000</td>\n",
       "      <td>1542.000000</td>\n",
       "      <td>1437.000000</td>\n",
       "      <td>1545.000000</td>\n",
       "      <td>1465.000000</td>\n",
       "      <td>1491.000000</td>\n",
       "      <td>1546.000000</td>\n",
       "      <td>1524.000000</td>\n",
       "      <td>0.517533</td>\n",
       "      <td>15000.000000</td>\n",
       "      <td>15000.000000</td>\n",
       "    </tr>\n",
       "  </tbody>\n",
       "</table>\n",
       "</div>"
      ],
      "text/plain": [
       "              airplane   automobile         bird          cat         deer  \\\n",
       "f1-score      0.574206     0.590769     0.399304     0.321023     0.437086   \n",
       "precision     0.549287     0.596685     0.417455     0.354788     0.437849   \n",
       "recall        0.601494     0.584970     0.382667     0.293126     0.436326   \n",
       "support    1473.000000  1477.000000  1500.000000  1542.000000  1437.000000   \n",
       "\n",
       "                   dog         frog        horse         ship        truck  \\\n",
       "f1-score      0.430493     0.573123     0.571429     0.656047     0.596301   \n",
       "precision     0.426126     0.553787     0.557398     0.659477     0.580025   \n",
       "recall        0.434951     0.593857     0.586184     0.652652     0.613517   \n",
       "support    1545.000000  1465.000000  1491.000000  1546.000000  1524.000000   \n",
       "\n",
       "           accuracy     macro avg  weighted avg  \n",
       "f1-score   0.517533      0.514978      0.514679  \n",
       "precision  0.517533      0.513288      0.513141  \n",
       "recall     0.517533      0.517974      0.517533  \n",
       "support    0.517533  15000.000000  15000.000000  "
      ]
     },
     "execution_count": 5,
     "metadata": {},
     "output_type": "execute_result"
    }
   ],
   "source": [
    "# avalia predicao\n",
    "y_pred = svclassifier.predict(X_test)\n",
    "report = classification_report(y_test, y_pred,output_dict = True)\n",
    "pd.DataFrame(report)"
   ]
  },
  {
   "cell_type": "markdown",
   "metadata": {},
   "source": [
    "# Polinomial SVM\n",
    "A função polinomial de 3° grau é a escolhida para o kernel"
   ]
  },
  {
   "cell_type": "code",
   "execution_count": 6,
   "metadata": {},
   "outputs": [
    {
     "name": "stdout",
     "output_type": "stream",
     "text": [
      "Wall time: 2h 6min 3s\n"
     ]
    },
    {
     "data": {
      "text/plain": [
       "SVC(C=1.0, cache_size=200, class_weight=None, coef0=0.0,\n",
       "    decision_function_shape='ovr', degree=3, gamma='auto_deprecated',\n",
       "    kernel='poly', max_iter=-1, probability=False, random_state=None,\n",
       "    shrinking=True, tol=0.002, verbose=False)"
      ]
     },
     "execution_count": 6,
     "metadata": {},
     "output_type": "execute_result"
    }
   ],
   "source": [
    "%%time\n",
    "polysvclassifier = SVC(kernel='poly', tol=0.002)\n",
    "polysvclassifier.fit(X_train, y_train)"
   ]
  },
  {
   "cell_type": "code",
   "execution_count": 7,
   "metadata": {},
   "outputs": [
    {
     "data": {
      "text/html": [
       "<div>\n",
       "<style scoped>\n",
       "    .dataframe tbody tr th:only-of-type {\n",
       "        vertical-align: middle;\n",
       "    }\n",
       "\n",
       "    .dataframe tbody tr th {\n",
       "        vertical-align: top;\n",
       "    }\n",
       "\n",
       "    .dataframe thead th {\n",
       "        text-align: right;\n",
       "    }\n",
       "</style>\n",
       "<table border=\"1\" class=\"dataframe\">\n",
       "  <thead>\n",
       "    <tr style=\"text-align: right;\">\n",
       "      <th></th>\n",
       "      <th>airplane</th>\n",
       "      <th>automobile</th>\n",
       "      <th>bird</th>\n",
       "      <th>cat</th>\n",
       "      <th>deer</th>\n",
       "      <th>dog</th>\n",
       "      <th>frog</th>\n",
       "      <th>horse</th>\n",
       "      <th>ship</th>\n",
       "      <th>truck</th>\n",
       "      <th>accuracy</th>\n",
       "      <th>macro avg</th>\n",
       "      <th>weighted avg</th>\n",
       "    </tr>\n",
       "  </thead>\n",
       "  <tbody>\n",
       "    <tr>\n",
       "      <th>f1-score</th>\n",
       "      <td>0.255061</td>\n",
       "      <td>0.139888</td>\n",
       "      <td>0.001330</td>\n",
       "      <td>0.0</td>\n",
       "      <td>0.189733</td>\n",
       "      <td>0.007727</td>\n",
       "      <td>0.020013</td>\n",
       "      <td>0.007853</td>\n",
       "      <td>0.201183</td>\n",
       "      <td>0.175869</td>\n",
       "      <td>0.1442</td>\n",
       "      <td>0.099866</td>\n",
       "      <td>0.099265</td>\n",
       "    </tr>\n",
       "    <tr>\n",
       "      <th>precision</th>\n",
       "      <td>0.500994</td>\n",
       "      <td>0.278226</td>\n",
       "      <td>0.250000</td>\n",
       "      <td>0.0</td>\n",
       "      <td>0.105215</td>\n",
       "      <td>0.750000</td>\n",
       "      <td>0.441176</td>\n",
       "      <td>0.162162</td>\n",
       "      <td>0.597444</td>\n",
       "      <td>0.398148</td>\n",
       "      <td>0.1442</td>\n",
       "      <td>0.348337</td>\n",
       "      <td>0.350159</td>\n",
       "    </tr>\n",
       "    <tr>\n",
       "      <th>recall</th>\n",
       "      <td>0.171079</td>\n",
       "      <td>0.093433</td>\n",
       "      <td>0.000667</td>\n",
       "      <td>0.0</td>\n",
       "      <td>0.964509</td>\n",
       "      <td>0.003883</td>\n",
       "      <td>0.010239</td>\n",
       "      <td>0.004024</td>\n",
       "      <td>0.120957</td>\n",
       "      <td>0.112861</td>\n",
       "      <td>0.1442</td>\n",
       "      <td>0.148165</td>\n",
       "      <td>0.144200</td>\n",
       "    </tr>\n",
       "    <tr>\n",
       "      <th>support</th>\n",
       "      <td>1473.000000</td>\n",
       "      <td>1477.000000</td>\n",
       "      <td>1500.000000</td>\n",
       "      <td>1542.0</td>\n",
       "      <td>1437.000000</td>\n",
       "      <td>1545.000000</td>\n",
       "      <td>1465.000000</td>\n",
       "      <td>1491.000000</td>\n",
       "      <td>1546.000000</td>\n",
       "      <td>1524.000000</td>\n",
       "      <td>0.1442</td>\n",
       "      <td>15000.000000</td>\n",
       "      <td>15000.000000</td>\n",
       "    </tr>\n",
       "  </tbody>\n",
       "</table>\n",
       "</div>"
      ],
      "text/plain": [
       "              airplane   automobile         bird     cat         deer  \\\n",
       "f1-score      0.255061     0.139888     0.001330     0.0     0.189733   \n",
       "precision     0.500994     0.278226     0.250000     0.0     0.105215   \n",
       "recall        0.171079     0.093433     0.000667     0.0     0.964509   \n",
       "support    1473.000000  1477.000000  1500.000000  1542.0  1437.000000   \n",
       "\n",
       "                   dog         frog        horse         ship        truck  \\\n",
       "f1-score      0.007727     0.020013     0.007853     0.201183     0.175869   \n",
       "precision     0.750000     0.441176     0.162162     0.597444     0.398148   \n",
       "recall        0.003883     0.010239     0.004024     0.120957     0.112861   \n",
       "support    1545.000000  1465.000000  1491.000000  1546.000000  1524.000000   \n",
       "\n",
       "           accuracy     macro avg  weighted avg  \n",
       "f1-score     0.1442      0.099866      0.099265  \n",
       "precision    0.1442      0.348337      0.350159  \n",
       "recall       0.1442      0.148165      0.144200  \n",
       "support      0.1442  15000.000000  15000.000000  "
      ]
     },
     "execution_count": 7,
     "metadata": {},
     "output_type": "execute_result"
    }
   ],
   "source": [
    "# avalia predicao\n",
    "y_pred = polysvclassifier.predict(X_test)\n",
    "report = classification_report(y_test, y_pred,output_dict = True)\n",
    "pd.DataFrame(report)"
   ]
  }
 ],
 "metadata": {
  "kernelspec": {
   "display_name": "Python 3",
   "language": "python",
   "name": "python3"
  },
  "language_info": {
   "codemirror_mode": {
    "name": "ipython",
    "version": 3
   },
   "file_extension": ".py",
   "mimetype": "text/x-python",
   "name": "python",
   "nbconvert_exporter": "python",
   "pygments_lexer": "ipython3",
   "version": "3.7.3"
  }
 },
 "nbformat": 4,
 "nbformat_minor": 2
}
