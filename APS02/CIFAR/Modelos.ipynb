{
 "cells": [
  {
   "cell_type": "code",
   "execution_count": 1,
   "metadata": {},
   "outputs": [],
   "source": [
    "# importa os pacotes necessários\n",
    "import numpy as np\n",
    "import os, cv2, random\n",
    "import pandas as pd\n",
    "import seaborn as sns\n",
    "import matplotlib.pyplot as plt\n",
    "%matplotlib inline \n",
    "\n",
    "import warnings\n",
    "warnings.filterwarnings(\"ignore\")\n",
    "\n",
    "from sklearn import tree\n",
    "from sklearn.tree import DecisionTreeClassifier\n",
    "from sklearn.neighbors import KNeighborsClassifier\n",
    "from sklearn.naive_bayes import GaussianNB\n",
    "from sklearn.model_selection import train_test_split\n",
    "import sklearn.metrics\n",
    "from sklearn.metrics import classification_report\n",
    "from sklearn.model_selection import  cross_val_score\n",
    "\n",
    "from sklearn import svm\n",
    "from skimage.feature import greycomatrix, greycoprops\n",
    "from skimage.feature import hog\n",
    "from sklearn.metrics import classification_report\n",
    "from sklearn.linear_model import LogisticRegression"
   ]
  },
  {
   "cell_type": "code",
   "execution_count": 2,
   "metadata": {},
   "outputs": [],
   "source": [
    "df = pd.read_csv('kaggle/train_pca.csv')\n",
    "df_labels = pd.read_csv('kaggle/trainLabels.csv')"
   ]
  },
  {
   "cell_type": "code",
   "execution_count": 3,
   "metadata": {},
   "outputs": [
    {
     "data": {
      "text/plain": [
       "((35000, 290), (15000, 290))"
      ]
     },
     "execution_count": 3,
     "metadata": {},
     "output_type": "execute_result"
    }
   ],
   "source": [
    "X_train, X_test, y_train, y_test = train_test_split(df, df_labels.label.values, test_size = 0.3, random_state = 42)\n",
    "X_train.shape,X_test.shape"
   ]
  },
  {
   "cell_type": "markdown",
   "metadata": {},
   "source": [
    "# Logistic Regression\n",
    "Utilizando regressão logistica para ter uma base de comparação com os demais modelos."
   ]
  },
  {
   "cell_type": "code",
   "execution_count": 4,
   "metadata": {},
   "outputs": [
    {
     "name": "stdout",
     "output_type": "stream",
     "text": [
      "CPU times: user 1min 4s, sys: 91.7 ms, total: 1min 4s\n",
      "Wall time: 1min 4s\n"
     ]
    }
   ],
   "source": [
    "%%time\n",
    "logreg = LogisticRegression()\n",
    "logreg.fit(X_train, y_train)"
   ]
  },
  {
   "cell_type": "code",
   "execution_count": 5,
   "metadata": {},
   "outputs": [
    {
     "data": {
      "text/html": [
       "<div>\n",
       "<style scoped>\n",
       "    .dataframe tbody tr th:only-of-type {\n",
       "        vertical-align: middle;\n",
       "    }\n",
       "\n",
       "    .dataframe tbody tr th {\n",
       "        vertical-align: top;\n",
       "    }\n",
       "\n",
       "    .dataframe thead th {\n",
       "        text-align: right;\n",
       "    }\n",
       "</style>\n",
       "<table border=\"1\" class=\"dataframe\">\n",
       "  <thead>\n",
       "    <tr style=\"text-align: right;\">\n",
       "      <th></th>\n",
       "      <th>airplane</th>\n",
       "      <th>automobile</th>\n",
       "      <th>bird</th>\n",
       "      <th>cat</th>\n",
       "      <th>deer</th>\n",
       "      <th>dog</th>\n",
       "      <th>frog</th>\n",
       "      <th>horse</th>\n",
       "      <th>ship</th>\n",
       "      <th>truck</th>\n",
       "      <th>accuracy</th>\n",
       "      <th>macro avg</th>\n",
       "      <th>weighted avg</th>\n",
       "    </tr>\n",
       "  </thead>\n",
       "  <tbody>\n",
       "    <tr>\n",
       "      <th>f1-score</th>\n",
       "      <td>0.495694</td>\n",
       "      <td>0.514624</td>\n",
       "      <td>0.307989</td>\n",
       "      <td>0.315110</td>\n",
       "      <td>0.384504</td>\n",
       "      <td>0.340352</td>\n",
       "      <td>0.487340</td>\n",
       "      <td>0.507442</td>\n",
       "      <td>0.573114</td>\n",
       "      <td>0.504365</td>\n",
       "      <td>0.447867</td>\n",
       "      <td>0.443053</td>\n",
       "      <td>0.442783</td>\n",
       "    </tr>\n",
       "    <tr>\n",
       "      <th>precision</th>\n",
       "      <td>0.467509</td>\n",
       "      <td>0.500000</td>\n",
       "      <td>0.365720</td>\n",
       "      <td>0.330720</td>\n",
       "      <td>0.400755</td>\n",
       "      <td>0.364645</td>\n",
       "      <td>0.432347</td>\n",
       "      <td>0.511945</td>\n",
       "      <td>0.551045</td>\n",
       "      <td>0.497132</td>\n",
       "      <td>0.447867</td>\n",
       "      <td>0.442182</td>\n",
       "      <td>0.442080</td>\n",
       "    </tr>\n",
       "    <tr>\n",
       "      <th>recall</th>\n",
       "      <td>0.527495</td>\n",
       "      <td>0.530129</td>\n",
       "      <td>0.266000</td>\n",
       "      <td>0.300908</td>\n",
       "      <td>0.369520</td>\n",
       "      <td>0.319094</td>\n",
       "      <td>0.558362</td>\n",
       "      <td>0.503018</td>\n",
       "      <td>0.597025</td>\n",
       "      <td>0.511811</td>\n",
       "      <td>0.447867</td>\n",
       "      <td>0.448336</td>\n",
       "      <td>0.447867</td>\n",
       "    </tr>\n",
       "    <tr>\n",
       "      <th>support</th>\n",
       "      <td>1473.000000</td>\n",
       "      <td>1477.000000</td>\n",
       "      <td>1500.000000</td>\n",
       "      <td>1542.000000</td>\n",
       "      <td>1437.000000</td>\n",
       "      <td>1545.000000</td>\n",
       "      <td>1465.000000</td>\n",
       "      <td>1491.000000</td>\n",
       "      <td>1546.000000</td>\n",
       "      <td>1524.000000</td>\n",
       "      <td>0.447867</td>\n",
       "      <td>15000.000000</td>\n",
       "      <td>15000.000000</td>\n",
       "    </tr>\n",
       "  </tbody>\n",
       "</table>\n",
       "</div>"
      ],
      "text/plain": [
       "              airplane   automobile         bird          cat         deer  \\\n",
       "f1-score      0.495694     0.514624     0.307989     0.315110     0.384504   \n",
       "precision     0.467509     0.500000     0.365720     0.330720     0.400755   \n",
       "recall        0.527495     0.530129     0.266000     0.300908     0.369520   \n",
       "support    1473.000000  1477.000000  1500.000000  1542.000000  1437.000000   \n",
       "\n",
       "                   dog         frog        horse         ship        truck  \\\n",
       "f1-score      0.340352     0.487340     0.507442     0.573114     0.504365   \n",
       "precision     0.364645     0.432347     0.511945     0.551045     0.497132   \n",
       "recall        0.319094     0.558362     0.503018     0.597025     0.511811   \n",
       "support    1545.000000  1465.000000  1491.000000  1546.000000  1524.000000   \n",
       "\n",
       "           accuracy     macro avg  weighted avg  \n",
       "f1-score   0.447867      0.443053      0.442783  \n",
       "precision  0.447867      0.442182      0.442080  \n",
       "recall     0.447867      0.448336      0.447867  \n",
       "support    0.447867  15000.000000  15000.000000  "
      ]
     },
     "execution_count": 5,
     "metadata": {},
     "output_type": "execute_result"
    }
   ],
   "source": [
    "# avalia predicao\n",
    "y_pred = logreg.predict(X_test)\n",
    "report = classification_report(y_test, y_pred,output_dict = True)\n",
    "pd.DataFrame(report)"
   ]
  },
  {
   "cell_type": "markdown",
   "metadata": {},
   "source": [
    "# SVM"
   ]
  },
  {
   "cell_type": "code",
   "execution_count": 6,
   "metadata": {},
   "outputs": [
    {
     "name": "stdout",
     "output_type": "stream",
     "text": [
      "[LibSVM]CPU times: user 8min 59s, sys: 420 ms, total: 8min 59s\n",
      "Wall time: 8min 59s\n"
     ]
    }
   ],
   "source": [
    "%%time\n",
    "clf = svm.SVC(gamma='scale',verbose=True)\n",
    "clf.fit(X_train, y_train)  "
   ]
  },
  {
   "cell_type": "code",
   "execution_count": 7,
   "metadata": {},
   "outputs": [
    {
     "data": {
      "text/html": [
       "<div>\n",
       "<style scoped>\n",
       "    .dataframe tbody tr th:only-of-type {\n",
       "        vertical-align: middle;\n",
       "    }\n",
       "\n",
       "    .dataframe tbody tr th {\n",
       "        vertical-align: top;\n",
       "    }\n",
       "\n",
       "    .dataframe thead th {\n",
       "        text-align: right;\n",
       "    }\n",
       "</style>\n",
       "<table border=\"1\" class=\"dataframe\">\n",
       "  <thead>\n",
       "    <tr style=\"text-align: right;\">\n",
       "      <th></th>\n",
       "      <th>airplane</th>\n",
       "      <th>automobile</th>\n",
       "      <th>bird</th>\n",
       "      <th>cat</th>\n",
       "      <th>deer</th>\n",
       "      <th>dog</th>\n",
       "      <th>frog</th>\n",
       "      <th>horse</th>\n",
       "      <th>ship</th>\n",
       "      <th>truck</th>\n",
       "      <th>accuracy</th>\n",
       "      <th>macro avg</th>\n",
       "      <th>weighted avg</th>\n",
       "    </tr>\n",
       "  </thead>\n",
       "  <tbody>\n",
       "    <tr>\n",
       "      <th>f1-score</th>\n",
       "      <td>0.590618</td>\n",
       "      <td>0.634370</td>\n",
       "      <td>0.424008</td>\n",
       "      <td>0.400634</td>\n",
       "      <td>0.471083</td>\n",
       "      <td>0.422997</td>\n",
       "      <td>0.567601</td>\n",
       "      <td>0.598794</td>\n",
       "      <td>0.675467</td>\n",
       "      <td>0.610897</td>\n",
       "      <td>0.541067</td>\n",
       "      <td>0.539647</td>\n",
       "      <td>0.539388</td>\n",
       "    </tr>\n",
       "    <tr>\n",
       "      <th>precision</th>\n",
       "      <td>0.587248</td>\n",
       "      <td>0.614068</td>\n",
       "      <td>0.447739</td>\n",
       "      <td>0.391816</td>\n",
       "      <td>0.474576</td>\n",
       "      <td>0.458113</td>\n",
       "      <td>0.522063</td>\n",
       "      <td>0.635542</td>\n",
       "      <td>0.672436</td>\n",
       "      <td>0.597118</td>\n",
       "      <td>0.541067</td>\n",
       "      <td>0.540072</td>\n",
       "      <td>0.539970</td>\n",
       "    </tr>\n",
       "    <tr>\n",
       "      <th>recall</th>\n",
       "      <td>0.594026</td>\n",
       "      <td>0.656060</td>\n",
       "      <td>0.402667</td>\n",
       "      <td>0.409857</td>\n",
       "      <td>0.467641</td>\n",
       "      <td>0.392880</td>\n",
       "      <td>0.621843</td>\n",
       "      <td>0.566063</td>\n",
       "      <td>0.678525</td>\n",
       "      <td>0.625328</td>\n",
       "      <td>0.541067</td>\n",
       "      <td>0.541489</td>\n",
       "      <td>0.541067</td>\n",
       "    </tr>\n",
       "    <tr>\n",
       "      <th>support</th>\n",
       "      <td>1473.000000</td>\n",
       "      <td>1477.000000</td>\n",
       "      <td>1500.000000</td>\n",
       "      <td>1542.000000</td>\n",
       "      <td>1437.000000</td>\n",
       "      <td>1545.000000</td>\n",
       "      <td>1465.000000</td>\n",
       "      <td>1491.000000</td>\n",
       "      <td>1546.000000</td>\n",
       "      <td>1524.000000</td>\n",
       "      <td>0.541067</td>\n",
       "      <td>15000.000000</td>\n",
       "      <td>15000.000000</td>\n",
       "    </tr>\n",
       "  </tbody>\n",
       "</table>\n",
       "</div>"
      ],
      "text/plain": [
       "              airplane   automobile         bird          cat         deer  \\\n",
       "f1-score      0.590618     0.634370     0.424008     0.400634     0.471083   \n",
       "precision     0.587248     0.614068     0.447739     0.391816     0.474576   \n",
       "recall        0.594026     0.656060     0.402667     0.409857     0.467641   \n",
       "support    1473.000000  1477.000000  1500.000000  1542.000000  1437.000000   \n",
       "\n",
       "                   dog         frog        horse         ship        truck  \\\n",
       "f1-score      0.422997     0.567601     0.598794     0.675467     0.610897   \n",
       "precision     0.458113     0.522063     0.635542     0.672436     0.597118   \n",
       "recall        0.392880     0.621843     0.566063     0.678525     0.625328   \n",
       "support    1545.000000  1465.000000  1491.000000  1546.000000  1524.000000   \n",
       "\n",
       "           accuracy     macro avg  weighted avg  \n",
       "f1-score   0.541067      0.539647      0.539388  \n",
       "precision  0.541067      0.540072      0.539970  \n",
       "recall     0.541067      0.541489      0.541067  \n",
       "support    0.541067  15000.000000  15000.000000  "
      ]
     },
     "execution_count": 7,
     "metadata": {},
     "output_type": "execute_result"
    }
   ],
   "source": [
    "y_pred = clf.predict(X_test)\n",
    "report = classification_report(y_test, y_pred,output_dict = True)\n",
    "pd.DataFrame(report)"
   ]
  },
  {
   "cell_type": "code",
   "execution_count": null,
   "metadata": {},
   "outputs": [],
   "source": []
  }
 ],
 "metadata": {
  "kernelspec": {
   "display_name": "py3im",
   "language": "python",
   "name": "py3im"
  },
  "language_info": {
   "codemirror_mode": {
    "name": "ipython",
    "version": 3
   },
   "file_extension": ".py",
   "mimetype": "text/x-python",
   "name": "python",
   "nbconvert_exporter": "python",
   "pygments_lexer": "ipython3",
   "version": "3.6.8"
  }
 },
 "nbformat": 4,
 "nbformat_minor": 2
}
