{
 "cells": [
  {
   "cell_type": "code",
   "execution_count": 3,
   "metadata": {},
   "outputs": [],
   "source": [
    "# importa os pacotes necessários\n",
    "import numpy as np\n",
    "import os, gc, cv2, random\n",
    "import pandas as pd\n",
    "import seaborn as sns\n",
    "import matplotlib.pyplot as plt\n",
    "%matplotlib inline \n",
    "\n",
    "import warnings\n",
    "warnings.filterwarnings(\"ignore\")\n",
    "\n",
    "from sklearn import tree\n",
    "from sklearn.tree import DecisionTreeClassifier\n",
    "from sklearn.neighbors import KNeighborsClassifier\n",
    "from sklearn.naive_bayes import GaussianNB\n",
    "from sklearn.model_selection import train_test_split\n",
    "import sklearn.metrics\n",
    "from sklearn.metrics import classification_report\n",
    "from sklearn.model_selection import  cross_val_score\n",
    "\n",
    "from sklearn import svm\n",
    "from skimage.feature import greycomatrix, greycoprops\n",
    "from skimage.feature import hog\n",
    "from sklearn.metrics import classification_report\n",
    "from sklearn.linear_model import LogisticRegression\n",
    "\n",
    "from sklearn.svm import LinearSVC\n",
    "from sklearn.svm import SVC\n",
    "\n",
    "from tensorflow.keras import datasets, layers, models\n",
    "from sklearn.preprocessing import LabelEncoder\n",
    "import glob\n",
    "from natsort import natsorted\n",
    "from PIL import Image"
   ]
  },
  {
   "cell_type": "code",
   "execution_count": 2,
   "metadata": {},
   "outputs": [],
   "source": [
    "df = pd.read_csv('kaggle/data_pca.csv')\n",
    "df_labels = pd.read_csv('kaggle/data_labels.csv')"
   ]
  },
  {
   "cell_type": "code",
   "execution_count": 3,
   "metadata": {},
   "outputs": [],
   "source": [
    "#df=(df-df.min())/(df.max()-df.min())"
   ]
  },
  {
   "cell_type": "code",
   "execution_count": 4,
   "metadata": {},
   "outputs": [
    {
     "data": {
      "text/plain": [
       "((35000, 2500), (15000, 2500))"
      ]
     },
     "execution_count": 4,
     "metadata": {},
     "output_type": "execute_result"
    }
   ],
   "source": [
    "X_train, X_test, y_train, y_test = train_test_split(df, df_labels.label.values, test_size = 0.3, random_state = 42)\n",
    "del df\n",
    "X_train.shape,X_test.shape"
   ]
  },
  {
   "cell_type": "markdown",
   "metadata": {},
   "source": [
    "# Logistic Regression\n",
    "Utilizando regressão logistica para ter uma base de comparação com os demais modelos."
   ]
  },
  {
   "cell_type": "markdown",
   "metadata": {},
   "source": [
    "#### nomalizado antes e padding"
   ]
  },
  {
   "cell_type": "code",
   "execution_count": 5,
   "metadata": {},
   "outputs": [
    {
     "name": "stdout",
     "output_type": "stream",
     "text": [
      "Wall time: 8min 42s\n"
     ]
    },
    {
     "data": {
      "text/plain": [
       "LogisticRegression(C=1.0, class_weight=None, dual=False, fit_intercept=True,\n",
       "                   intercept_scaling=1, l1_ratio=None, max_iter=100,\n",
       "                   multi_class='warn', n_jobs=2, penalty='l2',\n",
       "                   random_state=None, solver='saga', tol=0.0001, verbose=0,\n",
       "                   warm_start=False)"
      ]
     },
     "execution_count": 5,
     "metadata": {},
     "output_type": "execute_result"
    }
   ],
   "source": [
    "%%time\n",
    "logreg = LogisticRegression(solver='saga',n_jobs=2)\n",
    "logreg.fit(X_train, y_train)"
   ]
  },
  {
   "cell_type": "code",
   "execution_count": 6,
   "metadata": {},
   "outputs": [
    {
     "data": {
      "text/html": [
       "<div>\n",
       "<style scoped>\n",
       "    .dataframe tbody tr th:only-of-type {\n",
       "        vertical-align: middle;\n",
       "    }\n",
       "\n",
       "    .dataframe tbody tr th {\n",
       "        vertical-align: top;\n",
       "    }\n",
       "\n",
       "    .dataframe thead th {\n",
       "        text-align: right;\n",
       "    }\n",
       "</style>\n",
       "<table border=\"1\" class=\"dataframe\">\n",
       "  <thead>\n",
       "    <tr style=\"text-align: right;\">\n",
       "      <th></th>\n",
       "      <th>airplane</th>\n",
       "      <th>automobile</th>\n",
       "      <th>bird</th>\n",
       "      <th>cat</th>\n",
       "      <th>deer</th>\n",
       "      <th>dog</th>\n",
       "      <th>frog</th>\n",
       "      <th>horse</th>\n",
       "      <th>ship</th>\n",
       "      <th>truck</th>\n",
       "      <th>accuracy</th>\n",
       "      <th>macro avg</th>\n",
       "      <th>weighted avg</th>\n",
       "    </tr>\n",
       "  </thead>\n",
       "  <tbody>\n",
       "    <tr>\n",
       "      <th>f1-score</th>\n",
       "      <td>0.602136</td>\n",
       "      <td>0.633367</td>\n",
       "      <td>0.448193</td>\n",
       "      <td>0.376615</td>\n",
       "      <td>0.452621</td>\n",
       "      <td>0.439560</td>\n",
       "      <td>0.610732</td>\n",
       "      <td>0.611316</td>\n",
       "      <td>0.709432</td>\n",
       "      <td>0.627002</td>\n",
       "      <td>0.5532</td>\n",
       "      <td>0.551097</td>\n",
       "      <td>0.550901</td>\n",
       "    </tr>\n",
       "    <tr>\n",
       "      <th>precision</th>\n",
       "      <td>0.592252</td>\n",
       "      <td>0.623198</td>\n",
       "      <td>0.463345</td>\n",
       "      <td>0.395714</td>\n",
       "      <td>0.451524</td>\n",
       "      <td>0.452675</td>\n",
       "      <td>0.583230</td>\n",
       "      <td>0.610294</td>\n",
       "      <td>0.696818</td>\n",
       "      <td>0.624756</td>\n",
       "      <td>0.5532</td>\n",
       "      <td>0.549381</td>\n",
       "      <td>0.549338</td>\n",
       "    </tr>\n",
       "    <tr>\n",
       "      <th>recall</th>\n",
       "      <td>0.612356</td>\n",
       "      <td>0.643873</td>\n",
       "      <td>0.434000</td>\n",
       "      <td>0.359274</td>\n",
       "      <td>0.453723</td>\n",
       "      <td>0.427184</td>\n",
       "      <td>0.640956</td>\n",
       "      <td>0.612341</td>\n",
       "      <td>0.722510</td>\n",
       "      <td>0.629265</td>\n",
       "      <td>0.5532</td>\n",
       "      <td>0.553548</td>\n",
       "      <td>0.553200</td>\n",
       "    </tr>\n",
       "    <tr>\n",
       "      <th>support</th>\n",
       "      <td>1473.000000</td>\n",
       "      <td>1477.000000</td>\n",
       "      <td>1500.000000</td>\n",
       "      <td>1542.000000</td>\n",
       "      <td>1437.000000</td>\n",
       "      <td>1545.000000</td>\n",
       "      <td>1465.000000</td>\n",
       "      <td>1491.000000</td>\n",
       "      <td>1546.000000</td>\n",
       "      <td>1524.000000</td>\n",
       "      <td>0.5532</td>\n",
       "      <td>15000.000000</td>\n",
       "      <td>15000.000000</td>\n",
       "    </tr>\n",
       "  </tbody>\n",
       "</table>\n",
       "</div>"
      ],
      "text/plain": [
       "              airplane   automobile         bird          cat         deer  \\\n",
       "f1-score      0.602136     0.633367     0.448193     0.376615     0.452621   \n",
       "precision     0.592252     0.623198     0.463345     0.395714     0.451524   \n",
       "recall        0.612356     0.643873     0.434000     0.359274     0.453723   \n",
       "support    1473.000000  1477.000000  1500.000000  1542.000000  1437.000000   \n",
       "\n",
       "                   dog         frog        horse         ship        truck  \\\n",
       "f1-score      0.439560     0.610732     0.611316     0.709432     0.627002   \n",
       "precision     0.452675     0.583230     0.610294     0.696818     0.624756   \n",
       "recall        0.427184     0.640956     0.612341     0.722510     0.629265   \n",
       "support    1545.000000  1465.000000  1491.000000  1546.000000  1524.000000   \n",
       "\n",
       "           accuracy     macro avg  weighted avg  \n",
       "f1-score     0.5532      0.551097      0.550901  \n",
       "precision    0.5532      0.549381      0.549338  \n",
       "recall       0.5532      0.553548      0.553200  \n",
       "support      0.5532  15000.000000  15000.000000  "
      ]
     },
     "execution_count": 6,
     "metadata": {},
     "output_type": "execute_result"
    }
   ],
   "source": [
    "# avalia predicao\n",
    "y_pred = logreg.predict(X_test)\n",
    "report = classification_report(y_test, y_pred,output_dict = True)\n",
    "pd.DataFrame(report)"
   ]
  },
  {
   "cell_type": "code",
   "execution_count": 7,
   "metadata": {},
   "outputs": [
    {
     "name": "stdout",
     "output_type": "stream",
     "text": [
      "Wall time: 4min 31s\n"
     ]
    },
    {
     "data": {
      "text/plain": [
       "LogisticRegression(C=1.0, class_weight=None, dual=False, fit_intercept=True,\n",
       "                   intercept_scaling=1, l1_ratio=None, max_iter=100,\n",
       "                   multi_class='warn', n_jobs=4, penalty='l2',\n",
       "                   random_state=None, solver='saga', tol=0.0001, verbose=0,\n",
       "                   warm_start=False)"
      ]
     },
     "execution_count": 7,
     "metadata": {},
     "output_type": "execute_result"
    }
   ],
   "source": [
    "%%time\n",
    "logreg = LogisticRegression(solver='saga',n_jobs=4)\n",
    "logreg.fit(X_train.iloc[:,:1500], y_train)"
   ]
  },
  {
   "cell_type": "code",
   "execution_count": 8,
   "metadata": {},
   "outputs": [
    {
     "data": {
      "text/html": [
       "<div>\n",
       "<style scoped>\n",
       "    .dataframe tbody tr th:only-of-type {\n",
       "        vertical-align: middle;\n",
       "    }\n",
       "\n",
       "    .dataframe tbody tr th {\n",
       "        vertical-align: top;\n",
       "    }\n",
       "\n",
       "    .dataframe thead th {\n",
       "        text-align: right;\n",
       "    }\n",
       "</style>\n",
       "<table border=\"1\" class=\"dataframe\">\n",
       "  <thead>\n",
       "    <tr style=\"text-align: right;\">\n",
       "      <th></th>\n",
       "      <th>airplane</th>\n",
       "      <th>automobile</th>\n",
       "      <th>bird</th>\n",
       "      <th>cat</th>\n",
       "      <th>deer</th>\n",
       "      <th>dog</th>\n",
       "      <th>frog</th>\n",
       "      <th>horse</th>\n",
       "      <th>ship</th>\n",
       "      <th>truck</th>\n",
       "      <th>accuracy</th>\n",
       "      <th>macro avg</th>\n",
       "      <th>weighted avg</th>\n",
       "    </tr>\n",
       "  </thead>\n",
       "  <tbody>\n",
       "    <tr>\n",
       "      <th>f1-score</th>\n",
       "      <td>0.583333</td>\n",
       "      <td>0.618705</td>\n",
       "      <td>0.422565</td>\n",
       "      <td>0.366985</td>\n",
       "      <td>0.455473</td>\n",
       "      <td>0.427373</td>\n",
       "      <td>0.588689</td>\n",
       "      <td>0.584270</td>\n",
       "      <td>0.688316</td>\n",
       "      <td>0.604092</td>\n",
       "      <td>0.536667</td>\n",
       "      <td>0.533980</td>\n",
       "      <td>0.533731</td>\n",
       "    </tr>\n",
       "    <tr>\n",
       "      <th>precision</th>\n",
       "      <td>0.577512</td>\n",
       "      <td>0.598355</td>\n",
       "      <td>0.445347</td>\n",
       "      <td>0.387050</td>\n",
       "      <td>0.460826</td>\n",
       "      <td>0.443593</td>\n",
       "      <td>0.556163</td>\n",
       "      <td>0.575896</td>\n",
       "      <td>0.677743</td>\n",
       "      <td>0.598071</td>\n",
       "      <td>0.536667</td>\n",
       "      <td>0.532056</td>\n",
       "      <td>0.531970</td>\n",
       "    </tr>\n",
       "    <tr>\n",
       "      <th>recall</th>\n",
       "      <td>0.589274</td>\n",
       "      <td>0.640487</td>\n",
       "      <td>0.402000</td>\n",
       "      <td>0.348898</td>\n",
       "      <td>0.450244</td>\n",
       "      <td>0.412298</td>\n",
       "      <td>0.625256</td>\n",
       "      <td>0.592891</td>\n",
       "      <td>0.699224</td>\n",
       "      <td>0.610236</td>\n",
       "      <td>0.536667</td>\n",
       "      <td>0.537081</td>\n",
       "      <td>0.536667</td>\n",
       "    </tr>\n",
       "    <tr>\n",
       "      <th>support</th>\n",
       "      <td>1473.000000</td>\n",
       "      <td>1477.000000</td>\n",
       "      <td>1500.000000</td>\n",
       "      <td>1542.000000</td>\n",
       "      <td>1437.000000</td>\n",
       "      <td>1545.000000</td>\n",
       "      <td>1465.000000</td>\n",
       "      <td>1491.000000</td>\n",
       "      <td>1546.000000</td>\n",
       "      <td>1524.000000</td>\n",
       "      <td>0.536667</td>\n",
       "      <td>15000.000000</td>\n",
       "      <td>15000.000000</td>\n",
       "    </tr>\n",
       "  </tbody>\n",
       "</table>\n",
       "</div>"
      ],
      "text/plain": [
       "              airplane   automobile         bird          cat         deer  \\\n",
       "f1-score      0.583333     0.618705     0.422565     0.366985     0.455473   \n",
       "precision     0.577512     0.598355     0.445347     0.387050     0.460826   \n",
       "recall        0.589274     0.640487     0.402000     0.348898     0.450244   \n",
       "support    1473.000000  1477.000000  1500.000000  1542.000000  1437.000000   \n",
       "\n",
       "                   dog         frog        horse         ship        truck  \\\n",
       "f1-score      0.427373     0.588689     0.584270     0.688316     0.604092   \n",
       "precision     0.443593     0.556163     0.575896     0.677743     0.598071   \n",
       "recall        0.412298     0.625256     0.592891     0.699224     0.610236   \n",
       "support    1545.000000  1465.000000  1491.000000  1546.000000  1524.000000   \n",
       "\n",
       "           accuracy     macro avg  weighted avg  \n",
       "f1-score   0.536667      0.533980      0.533731  \n",
       "precision  0.536667      0.532056      0.531970  \n",
       "recall     0.536667      0.537081      0.536667  \n",
       "support    0.536667  15000.000000  15000.000000  "
      ]
     },
     "execution_count": 8,
     "metadata": {},
     "output_type": "execute_result"
    }
   ],
   "source": [
    "# avalia predicao\n",
    "y_pred = logreg.predict(X_test.iloc[:,:1500])\n",
    "report = classification_report(y_test, y_pred,output_dict = True)\n",
    "pd.DataFrame(report)"
   ]
  },
  {
   "cell_type": "markdown",
   "metadata": {},
   "source": [
    "# Linear SVM\n",
    "Classificador SVM otimizado para o kernel linear, pode não dar o mesmo \n",
    "resultado se comparado ao sklearn.svm.SVC(), mas tem um tempo de execução menor"
   ]
  },
  {
   "cell_type": "code",
   "execution_count": 9,
   "metadata": {},
   "outputs": [
    {
     "name": "stdout",
     "output_type": "stream",
     "text": [
      "Wall time: 21min\n"
     ]
    },
    {
     "data": {
      "text/plain": [
       "LinearSVC(C=1.0, class_weight=None, dual=True, fit_intercept=True,\n",
       "          intercept_scaling=1, loss='squared_hinge', max_iter=1000,\n",
       "          multi_class='ovr', penalty='l2', random_state=None, tol=0.0001,\n",
       "          verbose=0)"
      ]
     },
     "execution_count": 9,
     "metadata": {},
     "output_type": "execute_result"
    }
   ],
   "source": [
    "%%time\n",
    "svclassifier = LinearSVC()\n",
    "svclassifier.fit(X_train, y_train)"
   ]
  },
  {
   "cell_type": "code",
   "execution_count": 10,
   "metadata": {},
   "outputs": [
    {
     "data": {
      "text/html": [
       "<div>\n",
       "<style scoped>\n",
       "    .dataframe tbody tr th:only-of-type {\n",
       "        vertical-align: middle;\n",
       "    }\n",
       "\n",
       "    .dataframe tbody tr th {\n",
       "        vertical-align: top;\n",
       "    }\n",
       "\n",
       "    .dataframe thead th {\n",
       "        text-align: right;\n",
       "    }\n",
       "</style>\n",
       "<table border=\"1\" class=\"dataframe\">\n",
       "  <thead>\n",
       "    <tr style=\"text-align: right;\">\n",
       "      <th></th>\n",
       "      <th>airplane</th>\n",
       "      <th>automobile</th>\n",
       "      <th>bird</th>\n",
       "      <th>cat</th>\n",
       "      <th>deer</th>\n",
       "      <th>dog</th>\n",
       "      <th>frog</th>\n",
       "      <th>horse</th>\n",
       "      <th>ship</th>\n",
       "      <th>truck</th>\n",
       "      <th>accuracy</th>\n",
       "      <th>macro avg</th>\n",
       "      <th>weighted avg</th>\n",
       "    </tr>\n",
       "  </thead>\n",
       "  <tbody>\n",
       "    <tr>\n",
       "      <th>f1-score</th>\n",
       "      <td>0.555868</td>\n",
       "      <td>0.608581</td>\n",
       "      <td>0.399725</td>\n",
       "      <td>0.347711</td>\n",
       "      <td>0.404295</td>\n",
       "      <td>0.393487</td>\n",
       "      <td>0.585232</td>\n",
       "      <td>0.575927</td>\n",
       "      <td>0.680680</td>\n",
       "      <td>0.584398</td>\n",
       "      <td>0.517067</td>\n",
       "      <td>0.513590</td>\n",
       "      <td>0.513424</td>\n",
       "    </tr>\n",
       "    <tr>\n",
       "      <th>precision</th>\n",
       "      <td>0.576111</td>\n",
       "      <td>0.593690</td>\n",
       "      <td>0.412181</td>\n",
       "      <td>0.355978</td>\n",
       "      <td>0.431962</td>\n",
       "      <td>0.413400</td>\n",
       "      <td>0.527382</td>\n",
       "      <td>0.563543</td>\n",
       "      <td>0.651865</td>\n",
       "      <td>0.599310</td>\n",
       "      <td>0.517067</td>\n",
       "      <td>0.512542</td>\n",
       "      <td>0.512407</td>\n",
       "    </tr>\n",
       "    <tr>\n",
       "      <th>recall</th>\n",
       "      <td>0.536999</td>\n",
       "      <td>0.624238</td>\n",
       "      <td>0.388000</td>\n",
       "      <td>0.339818</td>\n",
       "      <td>0.379958</td>\n",
       "      <td>0.375405</td>\n",
       "      <td>0.657338</td>\n",
       "      <td>0.588867</td>\n",
       "      <td>0.712160</td>\n",
       "      <td>0.570210</td>\n",
       "      <td>0.517067</td>\n",
       "      <td>0.517299</td>\n",
       "      <td>0.517067</td>\n",
       "    </tr>\n",
       "    <tr>\n",
       "      <th>support</th>\n",
       "      <td>1473.000000</td>\n",
       "      <td>1477.000000</td>\n",
       "      <td>1500.000000</td>\n",
       "      <td>1542.000000</td>\n",
       "      <td>1437.000000</td>\n",
       "      <td>1545.000000</td>\n",
       "      <td>1465.000000</td>\n",
       "      <td>1491.000000</td>\n",
       "      <td>1546.000000</td>\n",
       "      <td>1524.000000</td>\n",
       "      <td>0.517067</td>\n",
       "      <td>15000.000000</td>\n",
       "      <td>15000.000000</td>\n",
       "    </tr>\n",
       "  </tbody>\n",
       "</table>\n",
       "</div>"
      ],
      "text/plain": [
       "              airplane   automobile         bird          cat         deer  \\\n",
       "f1-score      0.555868     0.608581     0.399725     0.347711     0.404295   \n",
       "precision     0.576111     0.593690     0.412181     0.355978     0.431962   \n",
       "recall        0.536999     0.624238     0.388000     0.339818     0.379958   \n",
       "support    1473.000000  1477.000000  1500.000000  1542.000000  1437.000000   \n",
       "\n",
       "                   dog         frog        horse         ship        truck  \\\n",
       "f1-score      0.393487     0.585232     0.575927     0.680680     0.584398   \n",
       "precision     0.413400     0.527382     0.563543     0.651865     0.599310   \n",
       "recall        0.375405     0.657338     0.588867     0.712160     0.570210   \n",
       "support    1545.000000  1465.000000  1491.000000  1546.000000  1524.000000   \n",
       "\n",
       "           accuracy     macro avg  weighted avg  \n",
       "f1-score   0.517067      0.513590      0.513424  \n",
       "precision  0.517067      0.512542      0.512407  \n",
       "recall     0.517067      0.517299      0.517067  \n",
       "support    0.517067  15000.000000  15000.000000  "
      ]
     },
     "execution_count": 10,
     "metadata": {},
     "output_type": "execute_result"
    }
   ],
   "source": [
    "# avalia predicao\n",
    "y_pred = svclassifier.predict(X_test)\n",
    "report = classification_report(y_test, y_pred,output_dict = True)\n",
    "pd.DataFrame(report)"
   ]
  },
  {
   "cell_type": "markdown",
   "metadata": {},
   "source": [
    "Com os primeiros 1500 componentes."
   ]
  },
  {
   "cell_type": "code",
   "execution_count": 5,
   "metadata": {},
   "outputs": [
    {
     "name": "stdout",
     "output_type": "stream",
     "text": [
      "CPU times: user 26min, sys: 879 ms, total: 26min 1s\n",
      "Wall time: 26min 4s\n"
     ]
    }
   ],
   "source": [
    "%%time\n",
    "svclassifier = LinearSVC()\n",
    "svclassifier.fit(X_train.iloc[:,:1500], y_train)"
   ]
  },
  {
   "cell_type": "code",
   "execution_count": 6,
   "metadata": {},
   "outputs": [
    {
     "data": {
      "text/html": [
       "<div>\n",
       "<style scoped>\n",
       "    .dataframe tbody tr th:only-of-type {\n",
       "        vertical-align: middle;\n",
       "    }\n",
       "\n",
       "    .dataframe tbody tr th {\n",
       "        vertical-align: top;\n",
       "    }\n",
       "\n",
       "    .dataframe thead th {\n",
       "        text-align: right;\n",
       "    }\n",
       "</style>\n",
       "<table border=\"1\" class=\"dataframe\">\n",
       "  <thead>\n",
       "    <tr style=\"text-align: right;\">\n",
       "      <th></th>\n",
       "      <th>airplane</th>\n",
       "      <th>automobile</th>\n",
       "      <th>bird</th>\n",
       "      <th>cat</th>\n",
       "      <th>deer</th>\n",
       "      <th>dog</th>\n",
       "      <th>frog</th>\n",
       "      <th>horse</th>\n",
       "      <th>ship</th>\n",
       "      <th>truck</th>\n",
       "      <th>accuracy</th>\n",
       "      <th>macro avg</th>\n",
       "      <th>weighted avg</th>\n",
       "    </tr>\n",
       "  </thead>\n",
       "  <tbody>\n",
       "    <tr>\n",
       "      <th>f1-score</th>\n",
       "      <td>0.573716</td>\n",
       "      <td>0.590704</td>\n",
       "      <td>0.380952</td>\n",
       "      <td>0.334598</td>\n",
       "      <td>0.418723</td>\n",
       "      <td>0.398111</td>\n",
       "      <td>0.575089</td>\n",
       "      <td>0.551105</td>\n",
       "      <td>0.665356</td>\n",
       "      <td>0.561746</td>\n",
       "      <td>0.5094</td>\n",
       "      <td>0.505010</td>\n",
       "      <td>0.504711</td>\n",
       "    </tr>\n",
       "    <tr>\n",
       "      <th>precision</th>\n",
       "      <td>0.563934</td>\n",
       "      <td>0.564466</td>\n",
       "      <td>0.430976</td>\n",
       "      <td>0.357406</td>\n",
       "      <td>0.437453</td>\n",
       "      <td>0.415786</td>\n",
       "      <td>0.510312</td>\n",
       "      <td>0.527607</td>\n",
       "      <td>0.674419</td>\n",
       "      <td>0.557929</td>\n",
       "      <td>0.5094</td>\n",
       "      <td>0.504029</td>\n",
       "      <td>0.504013</td>\n",
       "    </tr>\n",
       "    <tr>\n",
       "      <th>recall</th>\n",
       "      <td>0.583842</td>\n",
       "      <td>0.619499</td>\n",
       "      <td>0.341333</td>\n",
       "      <td>0.314527</td>\n",
       "      <td>0.401531</td>\n",
       "      <td>0.381877</td>\n",
       "      <td>0.658703</td>\n",
       "      <td>0.576794</td>\n",
       "      <td>0.656533</td>\n",
       "      <td>0.565617</td>\n",
       "      <td>0.5094</td>\n",
       "      <td>0.510026</td>\n",
       "      <td>0.509400</td>\n",
       "    </tr>\n",
       "    <tr>\n",
       "      <th>support</th>\n",
       "      <td>1473.000000</td>\n",
       "      <td>1477.000000</td>\n",
       "      <td>1500.000000</td>\n",
       "      <td>1542.000000</td>\n",
       "      <td>1437.000000</td>\n",
       "      <td>1545.000000</td>\n",
       "      <td>1465.000000</td>\n",
       "      <td>1491.000000</td>\n",
       "      <td>1546.000000</td>\n",
       "      <td>1524.000000</td>\n",
       "      <td>0.5094</td>\n",
       "      <td>15000.000000</td>\n",
       "      <td>15000.000000</td>\n",
       "    </tr>\n",
       "  </tbody>\n",
       "</table>\n",
       "</div>"
      ],
      "text/plain": [
       "              airplane   automobile         bird          cat         deer  \\\n",
       "f1-score      0.573716     0.590704     0.380952     0.334598     0.418723   \n",
       "precision     0.563934     0.564466     0.430976     0.357406     0.437453   \n",
       "recall        0.583842     0.619499     0.341333     0.314527     0.401531   \n",
       "support    1473.000000  1477.000000  1500.000000  1542.000000  1437.000000   \n",
       "\n",
       "                   dog         frog        horse         ship        truck  \\\n",
       "f1-score      0.398111     0.575089     0.551105     0.665356     0.561746   \n",
       "precision     0.415786     0.510312     0.527607     0.674419     0.557929   \n",
       "recall        0.381877     0.658703     0.576794     0.656533     0.565617   \n",
       "support    1545.000000  1465.000000  1491.000000  1546.000000  1524.000000   \n",
       "\n",
       "           accuracy     macro avg  weighted avg  \n",
       "f1-score     0.5094      0.505010      0.504711  \n",
       "precision    0.5094      0.504029      0.504013  \n",
       "recall       0.5094      0.510026      0.509400  \n",
       "support      0.5094  15000.000000  15000.000000  "
      ]
     },
     "execution_count": 6,
     "metadata": {},
     "output_type": "execute_result"
    }
   ],
   "source": [
    "# avalia predicao\n",
    "y_pred = svclassifier.predict(X_test.iloc[:,:1500])\n",
    "report = classification_report(y_test, y_pred,output_dict = True)\n",
    "pd.DataFrame(report)"
   ]
  },
  {
   "cell_type": "markdown",
   "metadata": {},
   "source": [
    "# Radial basis function SVM"
   ]
  },
  {
   "cell_type": "code",
   "execution_count": 11,
   "metadata": {},
   "outputs": [
    {
     "name": "stdout",
     "output_type": "stream",
     "text": [
      "Wall time: 58min 46s\n"
     ]
    },
    {
     "data": {
      "text/plain": [
       "SVC(C=1.0, cache_size=200, class_weight=None, coef0=0.0,\n",
       "    decision_function_shape='ovr', degree=3, gamma='auto_deprecated',\n",
       "    kernel='rbf', max_iter=-1, probability=False, random_state=None,\n",
       "    shrinking=True, tol=0.002, verbose=False)"
      ]
     },
     "execution_count": 11,
     "metadata": {},
     "output_type": "execute_result"
    }
   ],
   "source": [
    "%%time\n",
    "rbfsvclassifier = SVC(kernel='rbf', tol=0.002)\n",
    "rbfsvclassifier.fit(X_train, y_train)"
   ]
  },
  {
   "cell_type": "code",
   "execution_count": 12,
   "metadata": {},
   "outputs": [
    {
     "data": {
      "text/html": [
       "<div>\n",
       "<style scoped>\n",
       "    .dataframe tbody tr th:only-of-type {\n",
       "        vertical-align: middle;\n",
       "    }\n",
       "\n",
       "    .dataframe tbody tr th {\n",
       "        vertical-align: top;\n",
       "    }\n",
       "\n",
       "    .dataframe thead th {\n",
       "        text-align: right;\n",
       "    }\n",
       "</style>\n",
       "<table border=\"1\" class=\"dataframe\">\n",
       "  <thead>\n",
       "    <tr style=\"text-align: right;\">\n",
       "      <th></th>\n",
       "      <th>airplane</th>\n",
       "      <th>automobile</th>\n",
       "      <th>bird</th>\n",
       "      <th>cat</th>\n",
       "      <th>deer</th>\n",
       "      <th>dog</th>\n",
       "      <th>frog</th>\n",
       "      <th>horse</th>\n",
       "      <th>ship</th>\n",
       "      <th>truck</th>\n",
       "      <th>accuracy</th>\n",
       "      <th>macro avg</th>\n",
       "      <th>weighted avg</th>\n",
       "    </tr>\n",
       "  </thead>\n",
       "  <tbody>\n",
       "    <tr>\n",
       "      <th>f1-score</th>\n",
       "      <td>0.622578</td>\n",
       "      <td>0.663833</td>\n",
       "      <td>0.469619</td>\n",
       "      <td>0.392224</td>\n",
       "      <td>0.483274</td>\n",
       "      <td>0.469346</td>\n",
       "      <td>0.615527</td>\n",
       "      <td>0.605580</td>\n",
       "      <td>0.725260</td>\n",
       "      <td>0.652906</td>\n",
       "      <td>0.572667</td>\n",
       "      <td>0.570015</td>\n",
       "      <td>0.569822</td>\n",
       "    </tr>\n",
       "    <tr>\n",
       "      <th>precision</th>\n",
       "      <td>0.612755</td>\n",
       "      <td>0.641999</td>\n",
       "      <td>0.484076</td>\n",
       "      <td>0.413669</td>\n",
       "      <td>0.494538</td>\n",
       "      <td>0.495327</td>\n",
       "      <td>0.562783</td>\n",
       "      <td>0.622521</td>\n",
       "      <td>0.730013</td>\n",
       "      <td>0.632615</td>\n",
       "      <td>0.572667</td>\n",
       "      <td>0.569030</td>\n",
       "      <td>0.569074</td>\n",
       "    </tr>\n",
       "    <tr>\n",
       "      <th>recall</th>\n",
       "      <td>0.632722</td>\n",
       "      <td>0.687204</td>\n",
       "      <td>0.456000</td>\n",
       "      <td>0.372892</td>\n",
       "      <td>0.472512</td>\n",
       "      <td>0.445955</td>\n",
       "      <td>0.679181</td>\n",
       "      <td>0.589537</td>\n",
       "      <td>0.720569</td>\n",
       "      <td>0.674541</td>\n",
       "      <td>0.572667</td>\n",
       "      <td>0.573111</td>\n",
       "      <td>0.572667</td>\n",
       "    </tr>\n",
       "    <tr>\n",
       "      <th>support</th>\n",
       "      <td>1473.000000</td>\n",
       "      <td>1477.000000</td>\n",
       "      <td>1500.000000</td>\n",
       "      <td>1542.000000</td>\n",
       "      <td>1437.000000</td>\n",
       "      <td>1545.000000</td>\n",
       "      <td>1465.000000</td>\n",
       "      <td>1491.000000</td>\n",
       "      <td>1546.000000</td>\n",
       "      <td>1524.000000</td>\n",
       "      <td>0.572667</td>\n",
       "      <td>15000.000000</td>\n",
       "      <td>15000.000000</td>\n",
       "    </tr>\n",
       "  </tbody>\n",
       "</table>\n",
       "</div>"
      ],
      "text/plain": [
       "              airplane   automobile         bird          cat         deer  \\\n",
       "f1-score      0.622578     0.663833     0.469619     0.392224     0.483274   \n",
       "precision     0.612755     0.641999     0.484076     0.413669     0.494538   \n",
       "recall        0.632722     0.687204     0.456000     0.372892     0.472512   \n",
       "support    1473.000000  1477.000000  1500.000000  1542.000000  1437.000000   \n",
       "\n",
       "                   dog         frog        horse         ship        truck  \\\n",
       "f1-score      0.469346     0.615527     0.605580     0.725260     0.652906   \n",
       "precision     0.495327     0.562783     0.622521     0.730013     0.632615   \n",
       "recall        0.445955     0.679181     0.589537     0.720569     0.674541   \n",
       "support    1545.000000  1465.000000  1491.000000  1546.000000  1524.000000   \n",
       "\n",
       "           accuracy     macro avg  weighted avg  \n",
       "f1-score   0.572667      0.570015      0.569822  \n",
       "precision  0.572667      0.569030      0.569074  \n",
       "recall     0.572667      0.573111      0.572667  \n",
       "support    0.572667  15000.000000  15000.000000  "
      ]
     },
     "execution_count": 12,
     "metadata": {},
     "output_type": "execute_result"
    }
   ],
   "source": [
    "# avalia predicao\n",
    "y_pred = rbfsvclassifier.predict(X_test)\n",
    "report = classification_report(y_test, y_pred,output_dict = True)\n",
    "pd.DataFrame(report)"
   ]
  },
  {
   "cell_type": "markdown",
   "metadata": {},
   "source": [
    "Com os primeiros 1500 componentes."
   ]
  },
  {
   "cell_type": "code",
   "execution_count": 5,
   "metadata": {},
   "outputs": [
    {
     "name": "stdout",
     "output_type": "stream",
     "text": [
      "CPU times: user 38min 54s, sys: 964 ms, total: 38min 55s\n",
      "Wall time: 38min 56s\n"
     ]
    }
   ],
   "source": [
    "%%time\n",
    "rbfsvclassifier = SVC(kernel='rbf', tol=0.002)\n",
    "rbfsvclassifier.fit(X_train.iloc[:,:1500], y_train)"
   ]
  },
  {
   "cell_type": "code",
   "execution_count": 6,
   "metadata": {},
   "outputs": [
    {
     "data": {
      "text/html": [
       "<div>\n",
       "<style scoped>\n",
       "    .dataframe tbody tr th:only-of-type {\n",
       "        vertical-align: middle;\n",
       "    }\n",
       "\n",
       "    .dataframe tbody tr th {\n",
       "        vertical-align: top;\n",
       "    }\n",
       "\n",
       "    .dataframe thead th {\n",
       "        text-align: right;\n",
       "    }\n",
       "</style>\n",
       "<table border=\"1\" class=\"dataframe\">\n",
       "  <thead>\n",
       "    <tr style=\"text-align: right;\">\n",
       "      <th></th>\n",
       "      <th>airplane</th>\n",
       "      <th>automobile</th>\n",
       "      <th>bird</th>\n",
       "      <th>cat</th>\n",
       "      <th>deer</th>\n",
       "      <th>dog</th>\n",
       "      <th>frog</th>\n",
       "      <th>horse</th>\n",
       "      <th>ship</th>\n",
       "      <th>truck</th>\n",
       "      <th>accuracy</th>\n",
       "      <th>macro avg</th>\n",
       "      <th>weighted avg</th>\n",
       "    </tr>\n",
       "  </thead>\n",
       "  <tbody>\n",
       "    <tr>\n",
       "      <th>f1-score</th>\n",
       "      <td>0.641672</td>\n",
       "      <td>0.677377</td>\n",
       "      <td>0.486280</td>\n",
       "      <td>0.418357</td>\n",
       "      <td>0.499125</td>\n",
       "      <td>0.482149</td>\n",
       "      <td>0.626809</td>\n",
       "      <td>0.624827</td>\n",
       "      <td>0.739187</td>\n",
       "      <td>0.668579</td>\n",
       "      <td>0.588333</td>\n",
       "      <td>0.586436</td>\n",
       "      <td>0.586263</td>\n",
       "    </tr>\n",
       "    <tr>\n",
       "      <th>precision</th>\n",
       "      <td>0.627515</td>\n",
       "      <td>0.656707</td>\n",
       "      <td>0.507614</td>\n",
       "      <td>0.429352</td>\n",
       "      <td>0.502113</td>\n",
       "      <td>0.507880</td>\n",
       "      <td>0.581436</td>\n",
       "      <td>0.646805</td>\n",
       "      <td>0.749004</td>\n",
       "      <td>0.649938</td>\n",
       "      <td>0.588333</td>\n",
       "      <td>0.585836</td>\n",
       "      <td>0.585909</td>\n",
       "    </tr>\n",
       "    <tr>\n",
       "      <th>recall</th>\n",
       "      <td>0.656483</td>\n",
       "      <td>0.699391</td>\n",
       "      <td>0.466667</td>\n",
       "      <td>0.407912</td>\n",
       "      <td>0.496173</td>\n",
       "      <td>0.458900</td>\n",
       "      <td>0.679863</td>\n",
       "      <td>0.604292</td>\n",
       "      <td>0.729625</td>\n",
       "      <td>0.688320</td>\n",
       "      <td>0.588333</td>\n",
       "      <td>0.588763</td>\n",
       "      <td>0.588333</td>\n",
       "    </tr>\n",
       "    <tr>\n",
       "      <th>support</th>\n",
       "      <td>1473.000000</td>\n",
       "      <td>1477.000000</td>\n",
       "      <td>1500.000000</td>\n",
       "      <td>1542.000000</td>\n",
       "      <td>1437.000000</td>\n",
       "      <td>1545.000000</td>\n",
       "      <td>1465.000000</td>\n",
       "      <td>1491.000000</td>\n",
       "      <td>1546.000000</td>\n",
       "      <td>1524.000000</td>\n",
       "      <td>0.588333</td>\n",
       "      <td>15000.000000</td>\n",
       "      <td>15000.000000</td>\n",
       "    </tr>\n",
       "  </tbody>\n",
       "</table>\n",
       "</div>"
      ],
      "text/plain": [
       "              airplane   automobile         bird          cat         deer  \\\n",
       "f1-score      0.641672     0.677377     0.486280     0.418357     0.499125   \n",
       "precision     0.627515     0.656707     0.507614     0.429352     0.502113   \n",
       "recall        0.656483     0.699391     0.466667     0.407912     0.496173   \n",
       "support    1473.000000  1477.000000  1500.000000  1542.000000  1437.000000   \n",
       "\n",
       "                   dog         frog        horse         ship        truck  \\\n",
       "f1-score      0.482149     0.626809     0.624827     0.739187     0.668579   \n",
       "precision     0.507880     0.581436     0.646805     0.749004     0.649938   \n",
       "recall        0.458900     0.679863     0.604292     0.729625     0.688320   \n",
       "support    1545.000000  1465.000000  1491.000000  1546.000000  1524.000000   \n",
       "\n",
       "           accuracy     macro avg  weighted avg  \n",
       "f1-score   0.588333      0.586436      0.586263  \n",
       "precision  0.588333      0.585836      0.585909  \n",
       "recall     0.588333      0.588763      0.588333  \n",
       "support    0.588333  15000.000000  15000.000000  "
      ]
     },
     "execution_count": 6,
     "metadata": {},
     "output_type": "execute_result"
    }
   ],
   "source": [
    "# avalia predicao\n",
    "y_pred = rbfsvclassifier.predict(X_test.iloc[:,:1500])\n",
    "report = classification_report(y_test, y_pred,output_dict = True)\n",
    "pd.DataFrame(report)"
   ]
  },
  {
   "cell_type": "markdown",
   "metadata": {},
   "source": [
    "# Rede Neural TensorFlow"
   ]
  },
  {
   "cell_type": "code",
   "execution_count": 4,
   "metadata": {},
   "outputs": [],
   "source": [
    "# carrega as imagens e os labels\n",
    "new_filelist = glob.glob('kaggle/train/*.png')\n",
    "filelist = natsorted(new_filelist)\n",
    "all_images = np.array([np.array(Image.open(fname)) for fname in filelist])\n",
    "all_labels = pd.read_csv('kaggle/data_labels.csv')\n",
    "\n",
    "# divide as imagens e labels em treino e teste\n",
    "train_images, test_images, train_labels, test_labels = train_test_split(all_images, all_labels.label.values, \n",
    "                                                                        test_size = 0.3, random_state=42)\n",
    "# libera memoria das variaveis auxiliares\n",
    "del all_images\n",
    "del all_labels\n",
    "del new_filelist\n",
    "del filelist\n",
    "\n",
    "# normaliza pixeis com valores entre 0 e 1\n",
    "train_images, test_images = train_images / 255.0, test_images / 255.0"
   ]
  },
  {
   "cell_type": "code",
   "execution_count": 5,
   "metadata": {},
   "outputs": [
    {
     "name": "stdout",
     "output_type": "stream",
     "text": [
      "WARNING:tensorflow:From C:\\Users\\Nobody\\Anaconda3\\lib\\site-packages\\tensorflow_core\\python\\ops\\resource_variable_ops.py:1630: calling BaseResourceVariable.__init__ (from tensorflow.python.ops.resource_variable_ops) with constraint is deprecated and will be removed in a future version.\n",
      "Instructions for updating:\n",
      "If using Keras pass *_constraint arguments to layers.\n"
     ]
    }
   ],
   "source": [
    "# cria um modelo basico\n",
    "model = models.Sequential()\n",
    "model.add(layers.Conv2D(32, (3, 3), activation='relu', input_shape=(32, 32, 3)))\n",
    "model.add(layers.MaxPooling2D((2, 2)))\n",
    "model.add(layers.Conv2D(64, (3, 3), activation='relu'))\n",
    "model.add(layers.MaxPooling2D((2, 2)))\n",
    "model.add(layers.Conv2D(64, (3, 3), activation='relu'))\n",
    "model.add(layers.Flatten())\n",
    "model.add(layers.Dense(64, activation='relu'))\n",
    "model.add(layers.Dense(10, activation='softmax'))"
   ]
  },
  {
   "cell_type": "code",
   "execution_count": 6,
   "metadata": {},
   "outputs": [],
   "source": [
    "# formata os dados para a chamada de funcao\n",
    "\n",
    "# cria valores para cada label\n",
    "encoder = LabelEncoder()\n",
    "labels = ['airplane', 'automobile', 'bird', 'cat', 'deer','dog', 'frog', 'horse', 'ship', 'truck']\n",
    "transfomed_label = encoder.fit_transform(labels)\n",
    "df = pd.DataFrame(columns=['name', 'value'])\n",
    "\n",
    "# troca os labels pelos novos valores criados\n",
    "for i in range(10):\n",
    "    df = df.append({'name': labels[i], 'value':transfomed_label[i]}, ignore_index=True)\n",
    "for i in range(test_labels.size):\n",
    "    test_labels[i] = df.loc[df['name'] == test_labels[i], 'value'].iloc[0]\n",
    "for i in range(train_labels.size):\n",
    "    train_labels[i] = df.loc[df['name'] == train_labels[i], 'value'].iloc[0]\n",
    "\n",
    "# muda o tipo do array para int ( para satisfazer o argumento do keras)\n",
    "train_labels = train_labels.astype(int)\n",
    "test_labels = test_labels.astype(int)"
   ]
  },
  {
   "cell_type": "code",
   "execution_count": 7,
   "metadata": {},
   "outputs": [
    {
     "name": "stdout",
     "output_type": "stream",
     "text": [
      "Train on 35000 samples, validate on 15000 samples\n",
      "Epoch 1/10\n",
      "35000/35000 [==============================] - 18s 522us/sample - loss: 1.6757 - acc: 0.3784 - val_loss: 1.4083 - val_acc: 0.4882\n",
      "Epoch 2/10\n",
      "35000/35000 [==============================] - 15s 440us/sample - loss: 1.3144 - acc: 0.5274 - val_loss: 1.1920 - val_acc: 0.5845\n",
      "Epoch 3/10\n",
      "35000/35000 [==============================] - 15s 439us/sample - loss: 1.1516 - acc: 0.5921 - val_loss: 1.1390 - val_acc: 0.5995\n",
      "Epoch 4/10\n",
      "35000/35000 [==============================] - 15s 441us/sample - loss: 1.0452 - acc: 0.6328 - val_loss: 1.1146 - val_acc: 0.6189\n",
      "Epoch 5/10\n",
      "35000/35000 [==============================] - 16s 463us/sample - loss: 0.9631 - acc: 0.6619 - val_loss: 0.9565 - val_acc: 0.6658\n",
      "Epoch 6/10\n",
      "35000/35000 [==============================] - 15s 441us/sample - loss: 0.8987 - acc: 0.6850 - val_loss: 0.9335 - val_acc: 0.6759\n",
      "Epoch 7/10\n",
      "35000/35000 [==============================] - 15s 438us/sample - loss: 0.8431 - acc: 0.7036 - val_loss: 0.9182 - val_acc: 0.6860\n",
      "Epoch 8/10\n",
      "35000/35000 [==============================] - 15s 440us/sample - loss: 0.7897 - acc: 0.7210 - val_loss: 0.8797 - val_acc: 0.6963\n",
      "Epoch 9/10\n",
      "35000/35000 [==============================] - 16s 445us/sample - loss: 0.7464 - acc: 0.7357 - val_loss: 0.8913 - val_acc: 0.6958\n",
      "Epoch 10/10\n",
      "35000/35000 [==============================] - 15s 439us/sample - loss: 0.7067 - acc: 0.7502 - val_loss: 0.8982 - val_acc: 0.6945\n"
     ]
    }
   ],
   "source": [
    "# escolha de um modelo simples e com poucas epocas\n",
    "model.compile(optimizer='adam', loss='sparse_categorical_crossentropy',metrics=['accuracy'])\n",
    "\n",
    "history = model.fit(train_images, train_labels, epochs=10, \n",
    "                    validation_data=(test_images, test_labels))"
   ]
  },
  {
   "cell_type": "code",
   "execution_count": 9,
   "metadata": {},
   "outputs": [
    {
     "name": "stdout",
     "output_type": "stream",
     "text": [
      "15000/15000 - 2s - loss: 0.8982 - acc: 0.6945\n"
     ]
    },
    {
     "data": {
      "image/png": "[encoded data removed]",
      "text/plain": [
       "<Figure size 432x288 with 1 Axes>"
      ]
     },
     "metadata": {
      "needs_background": "light"
     },
     "output_type": "display_data"
    }
   ],
   "source": [
    "# precisao e a validacao dos dados em forma grafica\n",
    "plt.plot(history.history['acc'], label='acc')\n",
    "plt.plot(history.history['val_acc'], label = 'val_acc')\n",
    "plt.xlabel('Epoch')\n",
    "plt.ylabel('Accuracy')\n",
    "plt.ylim([0, 1])\n",
    "plt.legend(loc='lower right')\n",
    "\n",
    "test_loss, test_acc = model.evaluate(test_images,  test_labels, verbose=2)"
   ]
  }
 ],
 "metadata": {
  "kernelspec": {
   "display_name": "Python 3",
   "language": "python",
   "name": "python3"
  },
  "language_info": {
   "codemirror_mode": {
    "name": "ipython",
    "version": 3
   },
   "file_extension": ".py",
   "mimetype": "text/x-python",
   "name": "python",
   "nbconvert_exporter": "python",
   "pygments_lexer": "ipython3",
   "version": "3.7.3"
  }
 },
 "nbformat": 4,
 "nbformat_minor": 2
}
