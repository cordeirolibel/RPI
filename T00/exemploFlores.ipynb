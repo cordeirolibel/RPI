{
 "cells": [
  {
   "cell_type": "code",
   "execution_count": 8,
   "metadata": {},
   "outputs": [
    {
     "name": "stdout",
     "output_type": "stream",
     "text": [
      "Populating the interactive namespace from numpy and matplotlib\n"
     ]
    }
   ],
   "source": [
    "from skimage import io, color, exposure\n",
    "import numpy as np\n",
    "import os\n",
    "from matplotlib import pyplot as plt\n",
    "%pylab inline"
   ]
  },
  {
   "cell_type": "code",
   "execution_count": 11,
   "metadata": {},
   "outputs": [
    {
     "name": "stdout",
     "output_type": "stream",
     "text": [
      "Processing image_0806.jpg\n",
      "Processing image_0967.jpg\n",
      "Processing image_0489.jpg\n",
      "Processing image_1297.jpg\n",
      "Processing image_0808.jpg\n",
      "Processing image_0486.jpg\n",
      "Processing image_0810.jpg\n",
      "Processing image_0961.jpg\n",
      "Processing image_0980.jpg\n",
      "Processing image_0497.jpg\n",
      "Processing image_1326.jpg\n",
      "Processing image_0817.jpg\n",
      "Processing image_0986.jpg\n",
      "Processing image_0809.jpg\n",
      "Processing image_1307.jpg\n",
      "Processing image_0494.jpg\n",
      "Processing image_0483.jpg\n",
      "Processing image_1281.jpg\n",
      "Processing image_0985.jpg\n",
      "Processing image_1288.jpg\n"
     ]
    }
   ],
   "source": [
    "n_descritores = 4\n",
    "descritores = [[]]*n_descritores\n",
    "nomes = [[]]*n_descritores\n",
    "\n",
    "for img in os.listdir('flores/'):\n",
    "    im=io.imread('flores//' + img)          \n",
    "    print('Processing ' + img)\n",
    "    \n",
    "    im = color.rgb2hsv(im);  \n",
    "   \n",
    "    # 1. descritor simples - soma de histograma\n",
    "    aux1 = [x/64 for x in im[:,:,0]]\n",
    "    aux2 = [x/16 for x in im[:,:,1]]\n",
    "    aux3 = [x/4 for x in im[:,:,2]]\n",
    "    idx = np.add(aux1,np.add(aux2,aux3))\n",
    "    descritores[0].append(np.sum(idx))\n",
    "    nomes[0] = \"soma histograma\"\n",
    "    \n",
    "    # 2. média do valor\n",
    "    idx1 = np.mean(im[:,:,2])\n",
    "    descritores[1].append(idx1)   \n",
    "    nomes[1] = \"média do valor\"\n",
    "    \n",
    "    # 3. média de um ajuste do valor\n",
    "    aux = [np.square(x*2) for x in im[:,:,2]]\n",
    "    idx2 = np.mean(aux);\n",
    "    descritores[2].append(idx2)\n",
    "    nomes[2] = \"média do valor com ajuste\"\n",
    "    \n",
    "    #descritor cor media\n",
    "    idx3 = np.mean(im[:,:,0])\n",
    "    descritores[3].append(idx3)\n",
    "    nomes[3] = \"cor media\"\n"
   ]
  },
  {
   "cell_type": "code",
   "execution_count": 17,
   "metadata": {},
   "outputs": [],
   "source": [
    "#plots dos resultados\n",
    "def plot(descritores,nomes,d0,d1):\n",
    "    plt.figure()\n",
    "    plt.plot(descritores[d1][0:5],   descritores[d0][0:5],   'rs')\n",
    "    plt.plot(descritores[d1][5:10],  descritores[d0][5:10],  'k*')\n",
    "    plt.plot(descritores[d1][11:15], descritores[d0][11:15], 'yo')\n",
    "    plt.plot(descritores[d1][16:20], descritores[d0][16:20], 'bo')\n",
    "    plt.ylabel(nomes[d0])\n",
    "    plt.xlabel(nomes[d1])\n",
    "    plt.show()"
   ]
  },
  {
   "cell_type": "code",
   "execution_count": 19,
   "metadata": {},
   "outputs": [
    {
     "data": {
      "image/png": "[encoded data removed]",
      "text/plain": [
       "<Figure size 432x288 with 1 Axes>"
      ]
     },
     "metadata": {
      "needs_background": "light"
     },
     "output_type": "display_data"
    }
   ],
   "source": [
    "plot(descritores,nomes,0,2)"
   ]
  },
  {
   "cell_type": "code",
   "execution_count": 4,
   "metadata": {},
   "outputs": [
    {
     "data": {
      "text/plain": [
       "[<matplotlib.lines.Line2D at 0x7fe88dfe6fd0>]"
      ]
     },
     "execution_count": 4,
     "metadata": {},
     "output_type": "execute_result"
    },
    {
     "data": {
      "image/png": "[encoded data removed]",
      "text/plain": [
       "<Figure size 432x288 with 1 Axes>"
      ]
     },
     "metadata": {
      "needs_background": "light"
     },
     "output_type": "display_data"
    }
   ],
   "source": [
    "plt.figure()\n",
    "plt.plot(d2[0:5], d0[0:5], 'rs')\n",
    "plt.plot(d2[5:10], d0[5:10], 'k*')\n",
    "plt.plot(d2[11:15], d0[11:15], 'yo')\n",
    "plt.plot(d2[16:20], d0[16:20], 'bo')"
   ]
  },
  {
   "cell_type": "code",
   "execution_count": 7,
   "metadata": {},
   "outputs": [
    {
     "data": {
      "text/plain": [
       "[<matplotlib.lines.Line2D at 0x7fe88dec19e8>]"
      ]
     },
     "execution_count": 7,
     "metadata": {},
     "output_type": "execute_result"
    },
    {
     "data": {
      "image/png": "[encoded data removed]",
      "text/plain": [
       "<Figure size 432x288 with 1 Axes>"
      ]
     },
     "metadata": {
      "needs_background": "light"
     },
     "output_type": "display_data"
    }
   ],
   "source": [
    "plt.figure()\n",
    "plt.plot(d3[0:5], d2[0:5], 'rs')\n",
    "plt.plot(d3[5:10], d2[5:10], 'k*')\n",
    "plt.plot(d3[11:15], d2[11:15], 'yo')\n",
    "plt.plot(d3[16:20], d2[16:20], 'bo')"
   ]
  },
  {
   "cell_type": "code",
   "execution_count": null,
   "metadata": {},
   "outputs": [],
   "source": []
  }
 ],
 "metadata": {
  "anaconda-cloud": {},
  "kernelspec": {
   "display_name": "Python 3",
   "language": "python",
   "name": "python3"
  },
  "language_info": {
   "codemirror_mode": {
    "name": "ipython",
    "version": 3
   },
   "file_extension": ".py",
   "mimetype": "text/x-python",
   "name": "python",
   "nbconvert_exporter": "python",
   "pygments_lexer": "ipython3",
   "version": "3.6.8"
  }
 },
 "nbformat": 4,
 "nbformat_minor": 1
}
