{
 "cells": [
  {
   "cell_type": "code",
   "execution_count": 2,
   "metadata": {},
   "outputs": [
    {
     "name": "stdout",
     "output_type": "stream",
     "text": [
      "Populating the interactive namespace from numpy and matplotlib\n"
     ]
    },
    {
     "name": "stderr",
     "output_type": "stream",
     "text": [
      "/home/cordeiro/.local/lib/python3.6/site-packages/skimage/measure/_regionprops.py:250: UserWarning: regionprops and image moments (including moments, normalized moments, central moments, and inertia tensor) of 2D images will change from xy coordinates to rc coordinates in version 0.16.\n",
      "See https://scikit-image.org/docs/0.14.x/release_notes_and_installation.html#deprecations for details on how to avoid this message.\n",
      "  warn(XY_TO_RC_DEPRECATION_MESSAGE)\n",
      "/home/cordeiro/.local/lib/python3.6/site-packages/skimage/measure/_regionprops.py:260: UserWarning: regionprops and image moments (including moments, normalized moments, central moments, and inertia tensor) of 2D images will change from xy coordinates to rc coordinates in version 0.16.\n",
      "See https://scikit-image.org/docs/0.14.x/release_notes_and_installation.html#deprecations for details on how to avoid this message.\n",
      "  warn(XY_TO_RC_DEPRECATION_MESSAGE)\n"
     ]
    },
    {
     "data": {
      "image/png": "[encoded data removed]",
      "text/plain": [
       "<Figure size 432x288 with 1 Axes>"
      ]
     },
     "metadata": {
      "needs_background": "light"
     },
     "output_type": "display_data"
    }
   ],
   "source": [
    "import numpy as np\n",
    "import matplotlib.pyplot as plt\n",
    "\n",
    "from sklearn import datasets\n",
    "from skimage.measure import regionprops\n",
    "from skimage.morphology import label\n",
    "from skimage.filters import threshold_otsu\n",
    "\n",
    "import cv2\n",
    "\n",
    "%pylab inline \n",
    "#sem o anaconda, tirar esta linha\n",
    "\n",
    "#carrega a base de dados\n",
    "digitsdb = datasets.load_digits()\n",
    "\n",
    "#armazena as imagens e os rótulos em estruturas distintas\n",
    "digits = np.array(digitsdb.images, 'int16')\n",
    "targets = np.array(digitsdb.target)\n",
    "\n",
    "\n",
    "#inicializa vetores que irão armazenar os descritores\n",
    "d0 = []\n",
    "d1 = []\n",
    "\n",
    "#para cada imagem, extrai descritores\n",
    "for image in digits:\n",
    "    \n",
    "    #forma de binarização 1\n",
    "    thresh = threshold_otsu(image)\n",
    "    binary = image > thresh\n",
    "    #forma de binarização 2\n",
    "    #binary = image != 0  ## << Tire este comentário para fazer o exercício!\n",
    "    \n",
    "    label_img = label(binary)\n",
    "    \n",
    "    #se quiser ver as figuras\n",
    "    #plt.figure(1, figsize=(3, 3))\n",
    "    #plt.imshow(image, cmap=plt.cm.gray_r, interpolation='nearest')\n",
    "    #plt.show()\n",
    "        \n",
    "    regions = regionprops(label_img)\n",
    "        \n",
    "    for props in regions:\n",
    "        d0.append(props.eccentricity)\n",
    "        d1.append(props.filled_area)\n",
    "\n",
    "d0 = np.array(d0)\n",
    "d1 = np.array(d1)\n",
    "\n",
    "#comparando os resultados para as classes 0 e 1 \n",
    "idxA = targets==0 ## << Teste outros valores para o exercício!!!\n",
    "idxB = targets==1\n",
    "auxA = np.array(np.where(idxA == True))\n",
    "auxB = np.array(np.where(idxB == True))\n",
    "plt.figure()\n",
    "plt.plot(d0[auxA], d1[auxA], 'r.')\n",
    "plt.plot(d0[auxB], d1[auxB], 'ko',  markerfacecolor=\"None\", markeredgecolor='black')\n",
    "#plt.plot(d0, d1, 'k+') #se quiser plotar tudo!\n",
    "plt.show()"
   ]
  },
  {
   "cell_type": "code",
   "execution_count": null,
   "metadata": {
    "collapsed": true
   },
   "outputs": [],
   "source": []
  }
 ],
 "metadata": {
  "anaconda-cloud": {},
  "kernelspec": {
   "display_name": "Python 3",
   "language": "python",
   "name": "python3"
  },
  "language_info": {
   "codemirror_mode": {
    "name": "ipython",
    "version": 3
   },
   "file_extension": ".py",
   "mimetype": "text/x-python",
   "name": "python",
   "nbconvert_exporter": "python",
   "pygments_lexer": "ipython3",
   "version": "3.6.8"
  }
 },
 "nbformat": 4,
 "nbformat_minor": 1
}
