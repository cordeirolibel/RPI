{
 "cells": [
  {
   "cell_type": "code",
   "execution_count": 1,
   "metadata": {},
   "outputs": [],
   "source": [
    "# importa os pacotes necessários\n",
    "import numpy as np\n",
    "import os, cv2\n",
    "import pandas as pd\n",
    "import seaborn as sns\n",
    "import matplotlib.pyplot as plt\n",
    "from tqdm import tqdm\n",
    "import tensorflow as tf\n",
    "import warnings\n",
    "warnings.filterwarnings(\"ignore\")\n",
    "%matplotlib inline "
   ]
  },
  {
   "cell_type": "code",
   "execution_count": 2,
   "metadata": {
    "scrolled": true
   },
   "outputs": [
    {
     "name": "stderr",
     "output_type": "stream",
     "text": [
      "Using TensorFlow backend.\n",
      "WARNING: Logging before flag parsing goes to stderr.\n",
      "W1207 08:43:47.345920 140389311887168 deprecation_wrapper.py:119] From /home/cordeiro/env/py3im/lib/python3.6/site-packages/keras/backend/tensorflow_backend.py:4070: The name tf.nn.max_pool is deprecated. Please use tf.nn.max_pool2d instead.\n",
      "\n",
      "W1207 08:43:56.234250 140389311887168 deprecation_wrapper.py:119] From /home/cordeiro/env/py3im/lib/python3.6/site-packages/keras/backend/tensorflow_backend.py:4074: The name tf.nn.avg_pool is deprecated. Please use tf.nn.avg_pool2d instead.\n",
      "\n",
      "W1207 08:43:56.312481 140389311887168 deprecation_wrapper.py:119] From /home/cordeiro/env/py3im/lib/python3.6/site-packages/keras_segmentation/models/_pspnet_2.py:37: The name tf.image.resize_images is deprecated. Please use tf.image.resize instead.\n",
      "\n"
     ]
    }
   ],
   "source": [
    "#seleciona o modelo\n",
    "from keras_segmentation.pretrained import pspnet_101_cityscapes,pspnet_101_voc12,pspnet_50_ADE_20K\n",
    "model = pspnet_101_voc12() "
   ]
  },
  {
   "cell_type": "code",
   "execution_count": 3,
   "metadata": {},
   "outputs": [
    {
     "name": "stderr",
     "output_type": "stream",
     "text": [
      "W1207 08:44:03.017097 140389311887168 deprecation_wrapper.py:119] From /home/cordeiro/env/py3im/lib/python3.6/site-packages/keras/backend/tensorflow_backend.py:422: The name tf.global_variables is deprecated. Please use tf.compat.v1.global_variables instead.\n",
      "\n"
     ]
    },
    {
     "data": {
      "text/plain": [
       "<matplotlib.image.AxesImage at 0x7fadf3c0b668>"
      ]
     },
     "execution_count": 3,
     "metadata": {},
     "output_type": "execute_result"
    },
    {
     "data": {
      "image/png": "[encoded data removed]",
      "text/plain": [
       "<Figure size 432x288 with 1 Axes>"
      ]
     },
     "metadata": {
      "needs_background": "light"
     },
     "output_type": "display_data"
    }
   ],
   "source": [
    "#segmenta\n",
    "img_name = 'arara'\n",
    "out = model.predict_segmentation(\n",
    "    inp=\"imgs/in/\"+img_name+\".jpg\",\n",
    "    out_fname=\"imgs/mask/\"+img_name+\"_seg.jpg\"\n",
    ")\n",
    "plt.imshow(out)"
   ]
  },
  {
   "cell_type": "code",
   "execution_count": 4,
   "metadata": {},
   "outputs": [
    {
     "data": {
      "text/plain": [
       "<matplotlib.image.AxesImage at 0x7fadf40dfc18>"
      ]
     },
     "execution_count": 4,
     "metadata": {},
     "output_type": "execute_result"
    },
    {
     "data": {
      "image/png": "[encoded data removed]",
      "text/plain": [
       "<Figure size 432x288 with 1 Axes>"
      ]
     },
     "metadata": {
      "needs_background": "light"
     },
     "output_type": "display_data"
    }
   ],
   "source": [
    "#resize\n",
    "img_in = cv2.imread(\"imgs/in/\"+img_name+\".jpg\")\n",
    "out = cv2.resize(out,(img_in.shape[1],img_in.shape[0]),interpolation=cv2.INTER_NEAREST)\n",
    "plt.imshow(out)"
   ]
  },
  {
   "cell_type": "code",
   "execution_count": 5,
   "metadata": {},
   "outputs": [
    {
     "data": {
      "text/plain": [
       "3"
      ]
     },
     "execution_count": 5,
     "metadata": {},
     "output_type": "execute_result"
    }
   ],
   "source": [
    "#seleciona o elemento mais frequente e que esta mais no centro\n",
    "s = out.shape\n",
    "out_sem_borda = out[int(s[0]*0.15):int(s[0]*0.85),int(s[1]*0.15):int(s[1]*0.85)].copy()\n",
    "lista = out_sem_borda.flatten().tolist()\n",
    "elemento_mais_freq = max(set(lista), key=lista.count)\n",
    "elemento_mais_freq"
   ]
  },
  {
   "cell_type": "code",
   "execution_count": 6,
   "metadata": {},
   "outputs": [
    {
     "data": {
      "text/plain": [
       "<matplotlib.image.AxesImage at 0x7fadfc0570b8>"
      ]
     },
     "execution_count": 6,
     "metadata": {},
     "output_type": "execute_result"
    },
    {
     "data": {
      "image/png": "[encoded data removed]",
      "text/plain": [
       "<Figure size 432x288 with 1 Axes>"
      ]
     },
     "metadata": {
      "needs_background": "light"
     },
     "output_type": "display_data"
    }
   ],
   "source": [
    "#cria mascara\n",
    "mask = np.zeros(out.shape)\n",
    "mask[out == elemento_mais_freq] = 255\n",
    "cv2.imwrite(\"imgs/mask/\"+img_name+\"_bin.jpg\",mask)\n",
    "plt.imshow(mask,cmap='gray')"
   ]
  },
  {
   "cell_type": "markdown",
   "metadata": {},
   "source": [
    "## Em uma única função"
   ]
  },
  {
   "cell_type": "code",
   "execution_count": 7,
   "metadata": {},
   "outputs": [],
   "source": [
    "def segmenta(img_name,model):\n",
    "    \n",
    "    #segmenta\n",
    "    out = model.predict_segmentation(\n",
    "        inp=\"imgs/in/\"+img_name+\".jpg\",\n",
    "        out_fname=\"imgs/mask/\"+img_name+\"_seg.jpg\"\n",
    "    )\n",
    "    \n",
    "    #resize\n",
    "    img_in = cv2.imread(\"imgs/in/\"+img_name+\".jpg\")\n",
    "    out = cv2.resize(out,(img_in.shape[1],img_in.shape[0]),interpolation=cv2.INTER_NEAREST)\n",
    "    \n",
    "    #seleciona o elemento mais frequente e que esta mais no centro\n",
    "    s = out.shape\n",
    "    out_sem_borda = out[int(s[0]*0.15):int(s[0]*0.85),int(s[1]*0.15):int(s[1]*0.85)].copy()\n",
    "    lista = out_sem_borda.flatten().tolist()\n",
    "    elemento_mais_freq = max(set(lista), key=lista.count)\n",
    "\n",
    "    #cria mascara\n",
    "    mask = np.zeros(out.shape)\n",
    "    mask[out == elemento_mais_freq] = 255\n",
    "    cv2.imwrite(\"imgs/mask/\"+img_name+\"_bin.jpg\",mask)\n",
    "    \n",
    "    return mask"
   ]
  },
  {
   "cell_type": "code",
   "execution_count": null,
   "metadata": {},
   "outputs": [],
   "source": []
  },
  {
   "cell_type": "code",
   "execution_count": 8,
   "metadata": {},
   "outputs": [],
   "source": [
    "from keras_segmentation.pretrained import pspnet_101_voc12\n",
    "model = pspnet_101_voc12() "
   ]
  },
  {
   "cell_type": "code",
   "execution_count": 10,
   "metadata": {
    "scrolled": true
   },
   "outputs": [
    {
     "data": {
      "text/plain": [
       "<matplotlib.image.AxesImage at 0x7fadf4e6d9e8>"
      ]
     },
     "execution_count": 10,
     "metadata": {},
     "output_type": "execute_result"
    },
    {
     "data": {
      "image/png": "[encoded data removed]",
      "text/plain": [
       "<Figure size 432x288 with 1 Axes>"
      ]
     },
     "metadata": {
      "needs_background": "light"
     },
     "output_type": "display_data"
    }
   ],
   "source": [
    "mask = segmenta(\"elon\",model)\n",
    "plt.imshow(mask,cmap='gray')"
   ]
  },
  {
   "cell_type": "code",
   "execution_count": null,
   "metadata": {},
   "outputs": [],
   "source": []
  }
 ],
 "metadata": {
  "kernelspec": {
   "display_name": "py3im",
   "language": "python",
   "name": "py3im"
  },
  "language_info": {
   "codemirror_mode": {
    "name": "ipython",
    "version": 3
   },
   "file_extension": ".py",
   "mimetype": "text/x-python",
   "name": "python",
   "nbconvert_exporter": "python",
   "pygments_lexer": "ipython3",
   "version": "3.6.9"
  }
 },
 "nbformat": 4,
 "nbformat_minor": 2
}
